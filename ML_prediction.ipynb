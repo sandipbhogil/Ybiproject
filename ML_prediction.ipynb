{
 "cells": [
  {
   "cell_type": "code",
   "execution_count": 1,
   "id": "ef614739",
   "metadata": {
    "_cell_guid": "b1076dfc-b9ad-4769-8c92-a6c4dae69d19",
    "_uuid": "8f2839f25d086af736a60e9eeb907d3b93b6e0e5",
    "execution": {
     "iopub.execute_input": "2024-07-14T08:25:15.884631Z",
     "iopub.status.busy": "2024-07-14T08:25:15.884163Z",
     "iopub.status.idle": "2024-07-14T08:25:17.577130Z",
     "shell.execute_reply": "2024-07-14T08:25:17.576138Z"
    },
    "papermill": {
     "duration": 1.70243,
     "end_time": "2024-07-14T08:25:17.579822",
     "exception": false,
     "start_time": "2024-07-14T08:25:15.877392",
     "status": "completed"
    },
    "tags": []
   },
   "outputs": [],
   "source": [
    "import pandas as pd\n",
    "import plotly.express as px"
   ]
  },
  {
   "cell_type": "code",
   "execution_count": 2,
   "id": "e2b70ad9",
   "metadata": {
    "execution": {
     "iopub.execute_input": "2024-07-14T08:25:17.591369Z",
     "iopub.status.busy": "2024-07-14T08:25:17.590784Z",
     "iopub.status.idle": "2024-07-14T08:25:19.060135Z",
     "shell.execute_reply": "2024-07-14T08:25:19.058752Z"
    },
    "papermill": {
     "duration": 1.47816,
     "end_time": "2024-07-14T08:25:19.062975",
     "exception": false,
     "start_time": "2024-07-14T08:25:17.584815",
     "status": "completed"
    },
    "tags": []
   },
   "outputs": [],
   "source": [
    "import seaborn as sns"
   ]
  },
  {
   "cell_type": "code",
   "execution_count": 3,
   "id": "59b98a9d",
   "metadata": {
    "execution": {
     "iopub.execute_input": "2024-07-14T08:25:19.074264Z",
     "iopub.status.busy": "2024-07-14T08:25:19.073824Z",
     "iopub.status.idle": "2024-07-14T08:25:19.079254Z",
     "shell.execute_reply": "2024-07-14T08:25:19.077953Z"
    },
    "papermill": {
     "duration": 0.014037,
     "end_time": "2024-07-14T08:25:19.081853",
     "exception": false,
     "start_time": "2024-07-14T08:25:19.067816",
     "status": "completed"
    },
    "tags": []
   },
   "outputs": [],
   "source": [
    "import matplotlib.pyplot as plt"
   ]
  },
  {
   "cell_type": "code",
   "execution_count": 4,
   "id": "9bb8fc3e",
   "metadata": {
    "execution": {
     "iopub.execute_input": "2024-07-14T08:25:19.093230Z",
     "iopub.status.busy": "2024-07-14T08:25:19.092822Z",
     "iopub.status.idle": "2024-07-14T08:25:19.475387Z",
     "shell.execute_reply": "2024-07-14T08:25:19.474138Z"
    },
    "papermill": {
     "duration": 0.391753,
     "end_time": "2024-07-14T08:25:19.478467",
     "exception": false,
     "start_time": "2024-07-14T08:25:19.086714",
     "status": "completed"
    },
    "tags": []
   },
   "outputs": [],
   "source": [
    "from sklearn.model_selection import train_test_split\n",
    "from sklearn.linear_model import LogisticRegression\n",
    "from sklearn.metrics import confusion_matrix, accuracy_score, classification_report"
   ]
  },
  {
   "cell_type": "code",
   "execution_count": 5,
   "id": "cfc1795b",
   "metadata": {
    "execution": {
     "iopub.execute_input": "2024-07-14T08:25:19.490306Z",
     "iopub.status.busy": "2024-07-14T08:25:19.489736Z",
     "iopub.status.idle": "2024-07-14T08:25:19.494934Z",
     "shell.execute_reply": "2024-07-14T08:25:19.493795Z"
    },
    "papermill": {
     "duration": 0.01391,
     "end_time": "2024-07-14T08:25:19.497373",
     "exception": false,
     "start_time": "2024-07-14T08:25:19.483463",
     "status": "completed"
    },
    "tags": []
   },
   "outputs": [],
   "source": [
    "import ipywidgets as widgets"
   ]
  },
  {
   "cell_type": "code",
   "execution_count": 6,
   "id": "98a49cf7",
   "metadata": {
    "execution": {
     "iopub.execute_input": "2024-07-14T08:25:19.509307Z",
     "iopub.status.busy": "2024-07-14T08:25:19.508872Z",
     "iopub.status.idle": "2024-07-14T08:25:19.918934Z",
     "shell.execute_reply": "2024-07-14T08:25:19.917815Z"
    },
    "papermill": {
     "duration": 0.419398,
     "end_time": "2024-07-14T08:25:19.921800",
     "exception": false,
     "start_time": "2024-07-14T08:25:19.502402",
     "status": "completed"
    },
    "tags": []
   },
   "outputs": [],
   "source": [
    "cancer = pd.read_csv('https://github.com/YBIFoundation/Dataset/raw/main/Cancer.csv')"
   ]
  },
  {
   "cell_type": "code",
   "execution_count": 7,
   "id": "50abb38c",
   "metadata": {
    "execution": {
     "iopub.execute_input": "2024-07-14T08:25:19.933617Z",
     "iopub.status.busy": "2024-07-14T08:25:19.933230Z",
     "iopub.status.idle": "2024-07-14T08:25:19.948813Z",
     "shell.execute_reply": "2024-07-14T08:25:19.947843Z"
    },
    "papermill": {
     "duration": 0.02447,
     "end_time": "2024-07-14T08:25:19.951401",
     "exception": false,
     "start_time": "2024-07-14T08:25:19.926931",
     "status": "completed"
    },
    "tags": []
   },
   "outputs": [],
   "source": [
    "\n",
    "y = cancer['diagnosis']\n",
    "X = cancer.drop(['id', 'diagnosis', 'Unnamed: 32'], axis=1)\n"
   ]
  },
  {
   "cell_type": "code",
   "execution_count": 8,
   "id": "b477319b",
   "metadata": {
    "execution": {
     "iopub.execute_input": "2024-07-14T08:25:19.964252Z",
     "iopub.status.busy": "2024-07-14T08:25:19.963446Z",
     "iopub.status.idle": "2024-07-14T08:25:19.974488Z",
     "shell.execute_reply": "2024-07-14T08:25:19.973306Z"
    },
    "papermill": {
     "duration": 0.020905,
     "end_time": "2024-07-14T08:25:19.977344",
     "exception": false,
     "start_time": "2024-07-14T08:25:19.956439",
     "status": "completed"
    },
    "tags": []
   },
   "outputs": [],
   "source": [
    "X_train, X_test, y_train, y_test = train_test_split(X, y, train_size=0.7, random_state=2529)\n"
   ]
  },
  {
   "cell_type": "code",
   "execution_count": 9,
   "id": "6172fc3b",
   "metadata": {
    "execution": {
     "iopub.execute_input": "2024-07-14T08:25:19.989951Z",
     "iopub.status.busy": "2024-07-14T08:25:19.989518Z",
     "iopub.status.idle": "2024-07-14T08:25:20.850690Z",
     "shell.execute_reply": "2024-07-14T08:25:20.849184Z"
    },
    "papermill": {
     "duration": 0.872251,
     "end_time": "2024-07-14T08:25:20.855083",
     "exception": false,
     "start_time": "2024-07-14T08:25:19.982832",
     "status": "completed"
    },
    "tags": []
   },
   "outputs": [
    {
     "data": {
      "text/html": [
       "<style>#sk-container-id-1 {color: black;background-color: white;}#sk-container-id-1 pre{padding: 0;}#sk-container-id-1 div.sk-toggleable {background-color: white;}#sk-container-id-1 label.sk-toggleable__label {cursor: pointer;display: block;width: 100%;margin-bottom: 0;padding: 0.3em;box-sizing: border-box;text-align: center;}#sk-container-id-1 label.sk-toggleable__label-arrow:before {content: \"▸\";float: left;margin-right: 0.25em;color: #696969;}#sk-container-id-1 label.sk-toggleable__label-arrow:hover:before {color: black;}#sk-container-id-1 div.sk-estimator:hover label.sk-toggleable__label-arrow:before {color: black;}#sk-container-id-1 div.sk-toggleable__content {max-height: 0;max-width: 0;overflow: hidden;text-align: left;background-color: #f0f8ff;}#sk-container-id-1 div.sk-toggleable__content pre {margin: 0.2em;color: black;border-radius: 0.25em;background-color: #f0f8ff;}#sk-container-id-1 input.sk-toggleable__control:checked~div.sk-toggleable__content {max-height: 200px;max-width: 100%;overflow: auto;}#sk-container-id-1 input.sk-toggleable__control:checked~label.sk-toggleable__label-arrow:before {content: \"▾\";}#sk-container-id-1 div.sk-estimator input.sk-toggleable__control:checked~label.sk-toggleable__label {background-color: #d4ebff;}#sk-container-id-1 div.sk-label input.sk-toggleable__control:checked~label.sk-toggleable__label {background-color: #d4ebff;}#sk-container-id-1 input.sk-hidden--visually {border: 0;clip: rect(1px 1px 1px 1px);clip: rect(1px, 1px, 1px, 1px);height: 1px;margin: -1px;overflow: hidden;padding: 0;position: absolute;width: 1px;}#sk-container-id-1 div.sk-estimator {font-family: monospace;background-color: #f0f8ff;border: 1px dotted black;border-radius: 0.25em;box-sizing: border-box;margin-bottom: 0.5em;}#sk-container-id-1 div.sk-estimator:hover {background-color: #d4ebff;}#sk-container-id-1 div.sk-parallel-item::after {content: \"\";width: 100%;border-bottom: 1px solid gray;flex-grow: 1;}#sk-container-id-1 div.sk-label:hover label.sk-toggleable__label {background-color: #d4ebff;}#sk-container-id-1 div.sk-serial::before {content: \"\";position: absolute;border-left: 1px solid gray;box-sizing: border-box;top: 0;bottom: 0;left: 50%;z-index: 0;}#sk-container-id-1 div.sk-serial {display: flex;flex-direction: column;align-items: center;background-color: white;padding-right: 0.2em;padding-left: 0.2em;position: relative;}#sk-container-id-1 div.sk-item {position: relative;z-index: 1;}#sk-container-id-1 div.sk-parallel {display: flex;align-items: stretch;justify-content: center;background-color: white;position: relative;}#sk-container-id-1 div.sk-item::before, #sk-container-id-1 div.sk-parallel-item::before {content: \"\";position: absolute;border-left: 1px solid gray;box-sizing: border-box;top: 0;bottom: 0;left: 50%;z-index: -1;}#sk-container-id-1 div.sk-parallel-item {display: flex;flex-direction: column;z-index: 1;position: relative;background-color: white;}#sk-container-id-1 div.sk-parallel-item:first-child::after {align-self: flex-end;width: 50%;}#sk-container-id-1 div.sk-parallel-item:last-child::after {align-self: flex-start;width: 50%;}#sk-container-id-1 div.sk-parallel-item:only-child::after {width: 0;}#sk-container-id-1 div.sk-dashed-wrapped {border: 1px dashed gray;margin: 0 0.4em 0.5em 0.4em;box-sizing: border-box;padding-bottom: 0.4em;background-color: white;}#sk-container-id-1 div.sk-label label {font-family: monospace;font-weight: bold;display: inline-block;line-height: 1.2em;}#sk-container-id-1 div.sk-label-container {text-align: center;}#sk-container-id-1 div.sk-container {/* jupyter's `normalize.less` sets `[hidden] { display: none; }` but bootstrap.min.css set `[hidden] { display: none !important; }` so we also need the `!important` here to be able to override the default hidden behavior on the sphinx rendered scikit-learn.org. See: https://github.com/scikit-learn/scikit-learn/issues/21755 */display: inline-block !important;position: relative;}#sk-container-id-1 div.sk-text-repr-fallback {display: none;}</style><div id=\"sk-container-id-1\" class=\"sk-top-container\"><div class=\"sk-text-repr-fallback\"><pre>LogisticRegression(max_iter=5000)</pre><b>In a Jupyter environment, please rerun this cell to show the HTML representation or trust the notebook. <br />On GitHub, the HTML representation is unable to render, please try loading this page with nbviewer.org.</b></div><div class=\"sk-container\" hidden><div class=\"sk-item\"><div class=\"sk-estimator sk-toggleable\"><input class=\"sk-toggleable__control sk-hidden--visually\" id=\"sk-estimator-id-1\" type=\"checkbox\" checked><label for=\"sk-estimator-id-1\" class=\"sk-toggleable__label sk-toggleable__label-arrow\">LogisticRegression</label><div class=\"sk-toggleable__content\"><pre>LogisticRegression(max_iter=5000)</pre></div></div></div></div></div>"
      ],
      "text/plain": [
       "LogisticRegression(max_iter=5000)"
      ]
     },
     "execution_count": 9,
     "metadata": {},
     "output_type": "execute_result"
    }
   ],
   "source": [
    "\n",
    "model = LogisticRegression(max_iter=5000)\n",
    "model.fit(X_train, y_train)\n"
   ]
  },
  {
   "cell_type": "code",
   "execution_count": 10,
   "id": "01f0fd25",
   "metadata": {
    "execution": {
     "iopub.execute_input": "2024-07-14T08:25:20.879183Z",
     "iopub.status.busy": "2024-07-14T08:25:20.878507Z",
     "iopub.status.idle": "2024-07-14T08:25:22.782676Z",
     "shell.execute_reply": "2024-07-14T08:25:22.781420Z"
    },
    "papermill": {
     "duration": 1.919528,
     "end_time": "2024-07-14T08:25:22.785548",
     "exception": false,
     "start_time": "2024-07-14T08:25:20.866020",
     "status": "completed"
    },
    "tags": []
   },
   "outputs": [
    {
     "name": "stderr",
     "output_type": "stream",
     "text": [
      "/opt/conda/lib/python3.10/site-packages/plotly/express/_core.py:2065: FutureWarning: When grouping with a length-1 list-like, you will need to pass a length-1 tuple to get_group in a future version of pandas. Pass `(name,)` instead of `name` to silence this warning.\n",
      "  sf: grouped.get_group(s if len(s) > 1 else s[0])\n"
     ]
    }
   ],
   "source": [
    "\n",
    "fig = px.scatter(cancer, x='radius_mean', y='texture_mean', color='diagnosis', \n",
    "                 hover_data=['perimeter_mean', 'area_mean'])\n"
   ]
  },
  {
   "cell_type": "code",
   "execution_count": 11,
   "id": "93079140",
   "metadata": {
    "execution": {
     "iopub.execute_input": "2024-07-14T08:25:22.799449Z",
     "iopub.status.busy": "2024-07-14T08:25:22.798114Z",
     "iopub.status.idle": "2024-07-14T08:25:23.095562Z",
     "shell.execute_reply": "2024-07-14T08:25:23.094461Z"
    },
    "papermill": {
     "duration": 0.306927,
     "end_time": "2024-07-14T08:25:23.098210",
     "exception": false,
     "start_time": "2024-07-14T08:25:22.791283",
     "status": "completed"
    },
    "tags": []
   },
   "outputs": [
    {
     "data": {
      "text/html": [
       "        <script type=\"text/javascript\">\n",
       "        window.PlotlyConfig = {MathJaxConfig: 'local'};\n",
       "        if (window.MathJax && window.MathJax.Hub && window.MathJax.Hub.Config) {window.MathJax.Hub.Config({SVG: {font: \"STIX-Web\"}});}\n",
       "        if (typeof require !== 'undefined') {\n",
       "        require.undef(\"plotly\");\n",
       "        requirejs.config({\n",
       "            paths: {\n",
       "                'plotly': ['https://cdn.plot.ly/plotly-2.27.0.min']\n",
       "            }\n",
       "        });\n",
       "        require(['plotly'], function(Plotly) {\n",
       "            window._Plotly = Plotly;\n",
       "        });\n",
       "        }\n",
       "        </script>\n",
       "        "
      ]
     },
     "metadata": {},
     "output_type": "display_data"
    },
    {
     "data": {
      "text/html": [
       "<div>                            <div id=\"6bfdaeeb-8f32-40ff-bfca-27a1c88148c7\" class=\"plotly-graph-div\" style=\"height:525px; width:100%;\"></div>            <script type=\"text/javascript\">                require([\"plotly\"], function(Plotly) {                    window.PLOTLYENV=window.PLOTLYENV || {};                                    if (document.getElementById(\"6bfdaeeb-8f32-40ff-bfca-27a1c88148c7\")) {                    Plotly.newPlot(                        \"6bfdaeeb-8f32-40ff-bfca-27a1c88148c7\",                        [{\"customdata\":[[122.8,1001.0],[132.9,1326.0],[130.0,1203.0],[77.58,386.1],[135.1,1297.0],[82.57,477.1],[119.6,1040.0],[90.2,577.9],[87.5,519.8],[83.97,475.9],[102.7,797.8],[103.6,781.0],[132.4,1123.0],[103.7,782.7],[93.6,578.3],[96.73,658.8],[94.74,684.5],[108.1,798.8],[130.0,1260.0],[102.5,704.4],[137.2,1404.0],[110.0,904.6],[116.0,912.7],[97.41,644.8],[122.1,1094.0],[102.4,732.4],[115.0,955.1],[124.8,1088.0],[77.93,440.6],[112.8,899.3],[127.9,1162.0],[107.0,807.2],[110.1,869.5],[93.63,633.0],[95.54,698.8],[88.4,559.2],[86.18,563.0],[71.9,371.1],[128.3,1104.0],[87.32,545.2],[85.42,531.5],[123.7,1076.0],[85.98,534.6],[120.3,1033.0],[97.26,712.8],[125.5,1152.0],[95.55,656.9],[96.42,645.7],[82.69,499.0],[97.4,668.3],[123.6,1130.0],[114.2,929.4],[90.43,584.1],[104.1,817.7],[120.2,1006.0],[143.7,1245.0],[171.5,1878.0],[129.1,1132.0],[121.1,1075.0],[94.25,648.2],[122.0,1076.0],[100.2,728.2],[100.3,705.6],[132.4,1264.0],[94.48,642.5],[88.05,582.7],[87.21,530.2],[152.8,1509.0],[98.64,682.5],[105.7,782.6],[114.2,982.0],[121.4,1077.0],[166.2,1761.0],[87.76,572.6],[123.4,1138.0],[130.4,1192.0],[101.7,748.9],[106.2,809.8],[120.2,1075.0],[81.72,506.3],[96.85,678.1],[105.1,813.0],[78.99,432.0],[117.4,963.7],[126.3,1157.0],[130.7,1214.0],[152.1,1686.0],[109.3,886.3],[116.1,984.6],[85.84,565.4],[102.5,736.9],[109.3,832.9],[182.1,2250.0],[142.7,1311.0],[101.2,766.6],[98.92,710.6],[118.6,1041.0],[94.37,609.9],[81.15,477.4],[100.4,671.4],[90.63,588.9],[117.4,1024.0],[127.5,1148.0],[94.49,642.7],[115.1,951.6],[158.9,1685.0],[91.56,597.8],[98.78,716.6],[109.7,904.3],[134.7,1290.0],[188.5,2499.0],[114.5,948.0],[92.87,610.7],[90.96,578.9],[129.7,1230.0],[128.0,1223.0],[102.6,761.3],[85.26,503.2],[113.4,895.0],[134.4,1319.0],[153.5,1670.0],[132.5,1306.0],[113.4,920.6],[129.1,1155.0],[138.9,1364.0],[130.7,1206.0],[113.0,928.2],[126.5,1169.0],[91.43,602.4],[133.6,1207.0],[103.2,713.3],[110.2,773.5],[103.7,744.9],[132.9,1288.0],[111.0,933.1],[114.4,947.8],[100.0,758.6],[111.6,928.3],[135.7,1419.0],[147.3,1491.0],[115.2,998.9],[120.9,1102.0],[126.2,1138.0],[127.2,1145.0],[108.8,805.1],[75.0,431.1],[129.5,1217.0],[134.7,1247.0],[118.7,1027.0],[131.1,1274.0],[135.9,1264.0],[106.9,813.7],[107.5,826.8],[105.8,793.2],[111.8,918.6],[122.9,1092.0],[155.1,1747.0],[129.9,1194.0],[107.1,758.6],[174.2,2010.0],[98.0,716.6],[133.8,1293.0],[133.7,1234.0],[140.9,1546.0],[147.2,1482.0],[109.0,840.4],[141.3,1386.0],[134.8,1335.0],[73.3,361.6],[93.97,664.7],[128.9,1174.0],[102.4,744.7],[144.4,1407.0],[124.4,994.0],[117.8,991.7],[96.71,719.5],[102.9,803.1],[102.1,685.0],[133.8,1250.0],[123.7,1110.0],[91.12,599.5],[112.4,928.8],[117.5,990.0],[117.3,981.6],[138.1,1384.0],[127.7,1191.0],[111.2,930.9],[186.9,2501.0],[119.0,980.5],[109.8,815.8],[128.1,1167.0],[107.1,857.6],[118.4,1007.0],[121.3,1068.0],[137.8,1320.0],[92.33,595.9],[152.1,1682.0],[103.8,731.3],[88.64,556.7],[97.26,701.9],[120.8,1052.0],[130.5,1214.0],[165.5,1841.0],[134.7,1299.0],[137.8,1308.0],[93.77,629.8],[103.4,716.9],[143.0,1347.0],[142.0,1479.0],[131.2,1261.0],[108.3,858.1],[140.1,1265.0]],\"hovertemplate\":\"diagnosis=M\\u003cbr\\u003eradius_mean=%{x}\\u003cbr\\u003etexture_mean=%{y}\\u003cbr\\u003eperimeter_mean=%{customdata[0]}\\u003cbr\\u003earea_mean=%{customdata[1]}\\u003cextra\\u003e\\u003c\\u002fextra\\u003e\",\"legendgroup\":\"M\",\"marker\":{\"color\":\"#636efa\",\"symbol\":\"circle\"},\"mode\":\"markers\",\"name\":\"M\",\"orientation\":\"v\",\"showlegend\":true,\"x\":[17.99,20.57,19.69,11.42,20.29,12.45,18.25,13.71,13.0,12.46,16.02,15.78,19.17,15.85,13.73,14.54,14.68,16.13,19.81,15.34,21.16,16.65,17.14,14.58,18.61,15.3,17.57,18.63,11.84,17.02,19.27,16.13,16.74,14.25,14.99,13.48,13.44,10.95,19.07,13.28,13.17,18.65,13.17,18.22,15.1,19.21,14.71,14.25,12.68,14.78,18.94,17.2,13.8,16.07,18.05,20.18,25.22,19.1,18.46,14.48,19.02,15.37,15.06,20.26,14.42,13.61,13.11,22.27,14.87,15.78,17.95,18.66,24.25,13.61,19.0,19.79,15.46,16.16,18.45,12.77,14.95,16.11,11.8,17.68,19.19,19.59,23.27,16.78,17.47,13.43,15.46,16.46,27.22,21.09,15.7,15.28,18.31,14.22,12.34,14.86,13.77,18.08,19.18,14.45,17.54,23.29,13.81,15.12,17.01,20.58,28.11,17.42,14.19,13.86,19.8,19.53,15.75,12.83,17.05,20.51,23.21,20.48,17.46,19.4,20.94,19.73,17.3,19.45,13.96,19.55,15.32,15.66,15.53,20.31,17.35,17.29,15.61,17.19,20.73,21.75,17.93,18.81,19.16,19.4,16.24,11.76,19.53,20.09,18.22,20.16,20.34,16.27,16.26,16.03,17.06,18.77,23.51,19.68,15.75,25.73,15.08,20.44,20.2,21.71,22.01,16.35,21.37,20.64,11.08,14.6,19.55,15.49,21.61,17.91,17.99,15.13,15.5,14.9,20.18,18.82,13.98,17.27,18.03,17.75,21.1,19.59,17.08,27.42,17.6,16.25,19.44,16.69,18.01,18.49,20.59,13.82,23.09,15.46,13.4,15.05,18.31,19.89,24.63,20.47,20.55,14.27,15.22,20.92,21.56,20.13,16.6,20.6],\"xaxis\":\"x\",\"y\":[10.38,17.77,21.25,20.38,14.34,15.7,19.98,20.83,21.82,24.04,23.24,17.89,24.8,23.95,22.61,27.54,20.13,20.68,22.15,14.26,23.04,21.38,16.4,21.53,20.25,25.27,15.05,25.11,18.7,23.98,26.47,17.88,21.59,21.72,25.2,20.82,21.58,21.35,24.81,20.28,21.81,17.6,18.66,18.7,22.02,18.57,21.59,22.15,23.84,23.94,21.31,24.52,15.79,19.65,16.15,23.97,24.91,26.29,18.52,21.46,24.59,22.76,19.83,23.03,19.77,24.98,15.56,19.67,16.67,22.91,20.01,17.12,20.2,24.69,18.91,25.12,19.48,21.54,21.91,22.47,17.57,18.05,16.58,20.74,15.94,18.15,22.04,18.8,24.68,19.63,11.89,20.11,21.87,26.57,20.31,22.41,18.58,23.12,26.86,23.21,22.29,21.84,22.49,20.22,19.32,26.67,23.75,16.68,20.26,22.14,18.47,25.56,23.81,16.93,21.56,32.47,20.25,22.33,19.08,27.81,26.97,21.46,39.28,23.5,23.56,19.82,17.08,19.33,17.05,28.77,17.27,23.2,33.56,27.06,23.06,22.13,19.38,22.07,31.12,20.99,24.48,19.98,26.6,18.18,18.77,18.14,18.9,23.86,18.87,19.66,21.51,20.71,21.88,15.51,21.0,21.43,24.27,21.68,19.22,17.46,25.74,21.78,26.83,17.25,21.9,23.29,15.1,17.35,18.83,23.29,23.21,19.97,22.28,21.02,20.66,29.81,21.08,22.53,19.54,21.97,19.62,25.42,16.85,28.03,20.52,25.0,27.15,26.27,23.33,19.51,18.82,20.2,20.56,17.52,21.24,24.49,19.83,23.95,20.52,19.07,20.58,20.26,21.6,20.67,20.86,22.55,30.62,25.09,22.39,28.25,28.08,29.33],\"yaxis\":\"y\",\"type\":\"scatter\"},{\"customdata\":[[87.46,566.3],[85.63,520.0],[60.34,273.9],[82.61,523.8],[51.71,201.9],[78.04,449.3],[86.91,561.0],[74.72,427.9],[87.21,571.8],[75.71,437.6],[73.34,409.0],[82.61,527.2],[54.34,224.5],[64.55,311.9],[54.66,221.8],[59.2,260.9],[60.11,269.4],[71.8,394.1],[58.79,250.5],[81.37,502.5],[58.79,244.0],[79.19,470.9],[87.91,559.2],[83.19,506.3],[73.81,401.5],[86.49,520.0],[76.95,443.3],[79.78,466.1],[95.77,651.9],[94.57,662.7],[84.74,551.7],[86.6,555.1],[77.79,451.1],[62.11,294.5],[74.34,412.6],[43.79,143.5],[77.22,458.7],[63.95,298.3],[67.41,336.1],[75.17,412.5],[79.01,466.7],[72.48,396.5],[62.5,290.2],[82.15,480.4],[97.83,629.9],[68.64,334.2],[55.84,230.9],[76.53,438.6],[58.74,245.2],[73.34,403.3],[94.28,640.7],[86.1,553.5],[88.44,588.7],[99.58,674.5],[79.08,455.8],[102.0,761.7],[74.72,423.6],[73.06,399.8],[73.0,384.8],[61.24,288.5],[73.66,398.0],[83.74,512.2],[68.26,355.3],[78.11,432.8],[97.84,689.5],[93.97,640.1],[88.12,585.0],[83.51,519.4],[53.27,203.9],[63.78,300.2],[70.87,381.9],[85.31,538.9],[78.27,460.3],[108.4,880.2],[76.84,448.6],[68.69,366.8],[76.1,419.8],[79.85,464.5],[95.5,690.2],[68.77,357.6],[96.22,685.9],[78.85,464.1],[70.21,372.7],[67.49,349.6],[54.42,227.2],[64.6,302.4],[82.01,526.4],[81.29,508.8],[73.53,402.0],[63.76,317.5],[74.68,420.3],[75.27,428.9],[78.83,463.7],[82.02,507.4],[60.73,288.1],[82.53,516.4],[78.54,461.0],[81.09,481.9],[62.92,295.4],[87.02,529.4],[98.17,725.5],[75.51,428.0],[77.32,432.2],[65.05,321.2],[87.88,568.9],[88.59,561.3],[65.12,313.1],[84.55,546.4],[92.51,641.2],[66.62,329.6],[97.45,684.5],[81.35,496.4],[71.76,395.7],[70.79,386.8],[60.21,279.6],[89.79,603.4],[92.55,623.9],[87.38,575.3],[78.61,476.5],[73.93,389.4],[88.54,590.0],[66.72,337.7],[84.13,541.6],[84.95,512.2],[68.01,347.0],[73.87,406.3],[73.28,407.4],[69.28,346.4],[87.16,561.0],[82.38,512.2],[69.5,344.9],[90.3,632.6],[72.23,388.0],[61.5,289.9],[76.2,435.6],[71.79,396.6],[86.24,572.3],[88.99,587.4],[74.24,427.3],[84.08,516.6],[79.83,489.0],[77.87,441.0],[81.89,515.9],[73.72,394.1],[72.17,396.0],[96.03,651.0],[97.03,687.3],[83.14,513.7],[75.54,432.7],[81.78,492.1],[88.06,582.7],[69.14,363.7],[91.22,633.1],[66.85,334.2],[80.43,471.3],[66.86,334.3],[73.59,403.1],[74.23,417.2],[84.07,537.3],[56.36,246.3],[85.69,566.2],[82.71,530.6],[74.33,418.7],[92.68,664.9],[82.29,504.1],[73.73,409.1],[54.09,221.2],[79.19,481.6],[77.25,461.4],[60.07,244.5],[78.6,477.3],[66.52,324.2],[82.82,504.8],[78.01,457.9],[81.25,489.9],[90.03,616.5],[76.09,446.0],[84.52,514.0],[71.94,387.3],[71.38,390.0],[77.88,464.4],[84.08,514.3],[64.41,310.8],[94.15,641.2],[61.64,280.5],[71.49,373.9],[75.03,420.3],[66.2,321.6],[76.66,445.3],[94.87,668.7],[73.02,402.7],[77.23,426.7],[73.7,421.0],[71.24,384.6],[81.92,485.8],[85.09,512.0],[88.52,593.7],[56.74,241.0],[59.82,278.6],[79.42,491.9],[85.24,546.1],[81.87,496.6],[106.6,838.1],[85.48,552.4],[78.31,458.4],[97.65,711.8],[87.84,579.1],[106.3,788.5],[70.15,338.3],[85.89,562.1],[88.27,580.6],[73.16,386.3],[70.67,372.7],[78.75,447.8],[80.64,462.9],[85.79,541.8],[78.78,462.0],[88.37,596.6],[73.38,392.0],[65.75,321.6],[55.27,234.3],[78.07,446.2],[89.75,609.1],[88.1,558.1],[83.05,508.3],[70.31,378.2],[75.26,431.9],[76.14,442.7],[84.18,525.2],[83.18,507.6],[78.29,469.1],[70.39,370.0],[104.3,800.0],[82.63,514.5],[78.41,466.1],[72.49,399.8],[70.92,373.2],[59.75,268.8],[97.53,693.7],[76.39,433.8],[59.6,271.2],[80.88,495.0],[70.95,380.3],[74.2,409.7],[98.22,656.1],[75.46,408.2],[89.46,575.3],[61.93,289.7],[63.19,307.3],[67.49,333.6],[68.79,359.9],[70.47,381.1],[80.98,501.3],[81.47,467.8],[94.89,673.7],[82.67,509.2],[89.78,611.2],[88.68,592.6],[89.59,606.5],[71.73,371.5],[88.37,585.9],[66.82,340.9],[77.61,441.3],[95.88,674.8],[94.25,659.7],[76.83,432.0],[76.77,442.5],[93.86,644.2],[80.62,492.9],[86.34,557.2],[74.87,415.1],[84.1,537.9],[82.61,520.2],[61.68,290.9],[92.25,646.1],[73.88,412.7],[84.28,537.3],[86.87,542.9],[85.98,536.9],[61.06,286.3],[76.38,408.8],[61.49,289.1],[76.85,449.9],[96.45,686.9],[77.42,465.4],[70.41,358.9],[82.89,506.9],[92.41,618.4],[88.97,599.4],[73.99,404.9],[78.29,455.3],[88.73,602.9],[87.32,546.3],[87.76,571.1],[102.8,747.2],[82.85,476.7],[94.21,666.0],[75.49,420.5],[78.18,466.5],[114.6,992.1],[78.83,477.3],[84.06,538.7],[96.12,680.9],[82.69,485.6],[80.45,480.1],[98.73,689.4],[81.25,476.3],[61.49,248.7],[64.12,272.5],[79.47,453.1],[71.25,366.5],[104.7,819.8],[76.31,426.0],[94.66,680.7],[94.29,658.8],[72.76,391.2],[84.45,493.1],[82.51,493.8],[59.96,257.8],[71.3,388.1],[88.73,571.0],[63.0,293.2],[54.53,221.3],[87.44,551.1],[78.94,468.5],[90.31,594.2],[77.83,445.2],[75.89,422.9],[75.21,416.2],[87.76,575.5],[70.79,365.6],[76.37,406.4],[47.98,178.8],[48.34,170.4],[74.65,402.9],[95.81,656.4],[94.7,668.6],[84.88,538.4],[89.77,584.8],[87.19,573.2],[65.31,324.9],[65.85,320.8],[61.05,285.7],[68.89,361.6],[68.51,360.5],[71.49,378.4],[81.35,507.9],[59.01,264.0],[82.5,514.3],[65.67,321.4],[64.73,311.7],[59.26,271.3],[96.39,657.1],[74.52,403.5],[91.38,600.4],[70.67,386.0],[47.92,181.0]],\"hovertemplate\":\"diagnosis=B\\u003cbr\\u003eradius_mean=%{x}\\u003cbr\\u003etexture_mean=%{y}\\u003cbr\\u003eperimeter_mean=%{customdata[0]}\\u003cbr\\u003earea_mean=%{customdata[1]}\\u003cextra\\u003e\\u003c\\u002fextra\\u003e\",\"legendgroup\":\"B\",\"marker\":{\"color\":\"#EF553B\",\"symbol\":\"circle\"},\"mode\":\"markers\",\"name\":\"B\",\"orientation\":\"v\",\"showlegend\":true,\"x\":[13.54,13.08,9.504,13.03,8.196,12.05,13.49,11.76,13.64,11.94,11.52,13.05,8.618,10.17,8.598,9.173,9.465,11.31,9.029,12.78,8.888,12.31,13.53,12.86,11.45,13.34,12.0,12.36,14.64,14.62,13.27,13.45,12.18,9.787,11.6,6.981,12.18,9.876,10.49,11.64,12.36,11.34,9.777,12.63,14.26,10.51,8.726,11.93,8.95,11.41,14.5,13.37,13.85,15.1,12.19,15.71,11.71,11.43,11.28,9.738,11.43,12.9,10.75,11.9,14.95,14.44,13.74,13.0,8.219,9.731,11.15,13.15,12.25,16.84,12.06,10.9,11.75,12.34,14.97,10.8,14.97,12.32,11.08,10.66,8.671,9.904,13.01,12.81,11.41,10.08,11.71,11.81,12.3,12.77,9.72,12.91,12.23,12.47,9.876,13.11,15.27,11.84,11.89,10.2,13.65,13.56,10.18,13.27,14.34,10.44,15.0,12.62,11.32,11.22,9.567,14.03,14.22,13.64,12.42,11.3,13.75,10.48,13.2,12.89,10.65,11.52,11.5,10.6,13.59,12.87,10.71,14.29,11.29,9.742,11.89,11.33,13.59,13.85,11.74,12.89,12.58,11.94,12.89,11.26,11.37,14.41,14.96,12.95,11.85,12.72,13.77,10.91,14.26,10.51,12.46,10.49,11.46,11.6,13.2,9.0,13.5,13.05,11.7,14.61,12.76,11.54,8.597,12.49,12.18,9.042,12.43,10.25,12.86,12.2,12.67,14.11,12.03,12.98,11.22,11.25,12.3,12.99,10.05,14.42,9.606,11.06,11.71,10.26,12.06,14.76,11.47,11.95,11.66,11.14,12.56,13.05,13.87,8.878,9.436,12.54,13.3,12.76,16.5,13.4,12.21,15.19,13.69,16.17,10.57,13.46,13.66,11.27,11.04,12.05,12.39,13.28,12.21,13.88,11.27,10.26,8.734,12.1,14.06,13.51,12.8,11.06,11.8,11.93,12.96,12.94,12.34,10.94,16.14,12.85,12.27,11.36,11.04,9.397,14.99,11.89,9.405,12.7,11.16,11.57,14.69,11.61,13.66,9.742,10.03,10.48,10.8,11.13,12.72,12.4,14.86,12.87,14.04,13.85,14.02,10.97,13.78,10.57,11.99,14.8,14.53,11.87,12.0,14.53,12.62,13.38,11.63,13.21,13.0,9.755,14.4,11.6,13.17,13.24,13.14,9.668,11.62,9.667,12.04,14.92,12.27,10.88,12.83,14.2,13.9,11.49,12.16,13.9,13.47,13.7,15.73,12.45,14.64,11.68,12.25,17.85,12.46,13.16,14.87,12.65,12.47,15.04,12.54,9.268,9.676,12.22,11.06,16.3,11.74,14.81,14.58,11.34,12.88,12.75,9.295,11.26,13.71,9.847,8.571,13.46,12.34,13.94,12.07,11.75,11.67,13.68,10.96,11.69,7.729,7.691,11.54,14.47,14.74,13.21,13.87,13.62,10.32,10.26,9.683,10.82,10.86,11.13,12.77,9.333,12.88,10.29,10.16,9.423,14.59,11.51,14.05,11.2,7.76],\"xaxis\":\"x\",\"y\":[14.36,15.71,12.44,18.42,16.84,14.63,22.3,21.6,16.34,18.24,18.75,19.31,11.79,14.88,20.98,13.86,21.01,19.04,17.33,16.49,14.64,16.52,10.94,18.0,20.97,15.86,15.65,21.8,15.24,24.02,14.76,18.3,17.84,19.94,12.84,13.43,20.52,19.4,19.29,18.33,18.54,21.26,16.99,20.76,19.65,20.19,15.83,21.53,15.76,10.82,10.89,16.39,17.21,16.39,13.29,13.93,16.67,15.39,13.39,11.97,17.31,15.92,14.97,14.65,18.77,15.18,17.91,20.78,20.7,15.34,13.08,15.34,17.94,19.46,12.74,12.96,20.18,22.22,19.76,9.71,16.95,12.39,14.71,15.15,14.45,18.06,22.22,13.06,14.92,15.11,17.19,17.39,15.9,21.41,18.22,16.33,19.56,18.6,17.27,22.54,12.91,18.94,18.35,17.48,13.16,13.9,17.53,17.02,13.47,15.46,15.51,23.97,27.08,33.81,15.91,21.25,27.85,15.6,15.04,18.19,23.77,19.86,17.43,14.11,25.22,14.93,18.45,18.95,21.84,16.21,20.39,16.82,13.04,15.67,17.36,14.16,17.84,15.18,14.02,15.7,18.4,20.76,13.12,19.96,18.89,19.73,19.1,16.02,17.46,13.78,13.27,12.35,18.17,23.09,19.89,18.61,18.16,24.49,15.82,14.4,12.71,13.84,19.11,15.69,13.37,10.72,18.6,16.85,14.08,18.9,17.0,16.18,13.32,15.21,17.3,12.88,17.93,19.35,19.86,14.78,19.02,14.23,17.53,16.54,16.84,14.96,15.45,14.71,18.9,14.74,16.03,14.96,17.07,14.07,19.07,18.59,16.21,15.49,18.32,18.07,21.57,18.84,18.29,16.95,18.02,13.21,16.07,16.07,20.22,28.21,15.15,12.96,14.93,22.72,17.48,13.72,14.09,16.16,15.5,12.22,16.84,17.72,17.18,18.89,17.46,14.83,17.26,10.91,18.29,16.17,14.95,18.59,14.86,21.37,17.92,17.57,16.83,21.68,22.11,21.17,21.7,12.17,21.41,19.04,13.98,16.02,19.13,19.12,21.28,14.98,21.98,16.62,17.67,17.68,16.94,19.54,15.98,19.6,15.66,17.2,15.79,18.32,24.89,17.66,19.34,21.54,28.23,13.98,17.15,30.72,29.29,25.25,25.13,28.2,26.99,18.36,18.22,20.13,20.74,18.1,18.18,18.49,28.14,14.93,29.97,15.62,15.73,20.53,16.62,14.59,18.03,19.24,14.06,17.64,11.28,16.41,16.85,16.17,22.44,13.23,12.83,20.54,20.21,18.17,17.31,16.74,16.32,12.87,13.14,20.04,17.12,15.7,14.69,14.7,13.66,18.61,18.22,16.7,13.9,19.83,18.68,15.68,13.1,18.75,12.27,13.17,13.44,17.56,20.02,16.33,17.62,24.44,25.49,25.44,14.44,24.99,25.42,28.06,20.7,23.23,16.35,16.58,19.34,24.21,21.48,22.44,29.43,21.94,28.92,27.61,19.59,27.88,22.68,23.93,27.15,29.37,24.54],\"yaxis\":\"y\",\"type\":\"scatter\"}],                        {\"template\":{\"data\":{\"histogram2dcontour\":[{\"type\":\"histogram2dcontour\",\"colorbar\":{\"outlinewidth\":0,\"ticks\":\"\"},\"colorscale\":[[0.0,\"#0d0887\"],[0.1111111111111111,\"#46039f\"],[0.2222222222222222,\"#7201a8\"],[0.3333333333333333,\"#9c179e\"],[0.4444444444444444,\"#bd3786\"],[0.5555555555555556,\"#d8576b\"],[0.6666666666666666,\"#ed7953\"],[0.7777777777777778,\"#fb9f3a\"],[0.8888888888888888,\"#fdca26\"],[1.0,\"#f0f921\"]]}],\"choropleth\":[{\"type\":\"choropleth\",\"colorbar\":{\"outlinewidth\":0,\"ticks\":\"\"}}],\"histogram2d\":[{\"type\":\"histogram2d\",\"colorbar\":{\"outlinewidth\":0,\"ticks\":\"\"},\"colorscale\":[[0.0,\"#0d0887\"],[0.1111111111111111,\"#46039f\"],[0.2222222222222222,\"#7201a8\"],[0.3333333333333333,\"#9c179e\"],[0.4444444444444444,\"#bd3786\"],[0.5555555555555556,\"#d8576b\"],[0.6666666666666666,\"#ed7953\"],[0.7777777777777778,\"#fb9f3a\"],[0.8888888888888888,\"#fdca26\"],[1.0,\"#f0f921\"]]}],\"heatmap\":[{\"type\":\"heatmap\",\"colorbar\":{\"outlinewidth\":0,\"ticks\":\"\"},\"colorscale\":[[0.0,\"#0d0887\"],[0.1111111111111111,\"#46039f\"],[0.2222222222222222,\"#7201a8\"],[0.3333333333333333,\"#9c179e\"],[0.4444444444444444,\"#bd3786\"],[0.5555555555555556,\"#d8576b\"],[0.6666666666666666,\"#ed7953\"],[0.7777777777777778,\"#fb9f3a\"],[0.8888888888888888,\"#fdca26\"],[1.0,\"#f0f921\"]]}],\"heatmapgl\":[{\"type\":\"heatmapgl\",\"colorbar\":{\"outlinewidth\":0,\"ticks\":\"\"},\"colorscale\":[[0.0,\"#0d0887\"],[0.1111111111111111,\"#46039f\"],[0.2222222222222222,\"#7201a8\"],[0.3333333333333333,\"#9c179e\"],[0.4444444444444444,\"#bd3786\"],[0.5555555555555556,\"#d8576b\"],[0.6666666666666666,\"#ed7953\"],[0.7777777777777778,\"#fb9f3a\"],[0.8888888888888888,\"#fdca26\"],[1.0,\"#f0f921\"]]}],\"contourcarpet\":[{\"type\":\"contourcarpet\",\"colorbar\":{\"outlinewidth\":0,\"ticks\":\"\"}}],\"contour\":[{\"type\":\"contour\",\"colorbar\":{\"outlinewidth\":0,\"ticks\":\"\"},\"colorscale\":[[0.0,\"#0d0887\"],[0.1111111111111111,\"#46039f\"],[0.2222222222222222,\"#7201a8\"],[0.3333333333333333,\"#9c179e\"],[0.4444444444444444,\"#bd3786\"],[0.5555555555555556,\"#d8576b\"],[0.6666666666666666,\"#ed7953\"],[0.7777777777777778,\"#fb9f3a\"],[0.8888888888888888,\"#fdca26\"],[1.0,\"#f0f921\"]]}],\"surface\":[{\"type\":\"surface\",\"colorbar\":{\"outlinewidth\":0,\"ticks\":\"\"},\"colorscale\":[[0.0,\"#0d0887\"],[0.1111111111111111,\"#46039f\"],[0.2222222222222222,\"#7201a8\"],[0.3333333333333333,\"#9c179e\"],[0.4444444444444444,\"#bd3786\"],[0.5555555555555556,\"#d8576b\"],[0.6666666666666666,\"#ed7953\"],[0.7777777777777778,\"#fb9f3a\"],[0.8888888888888888,\"#fdca26\"],[1.0,\"#f0f921\"]]}],\"mesh3d\":[{\"type\":\"mesh3d\",\"colorbar\":{\"outlinewidth\":0,\"ticks\":\"\"}}],\"scatter\":[{\"fillpattern\":{\"fillmode\":\"overlay\",\"size\":10,\"solidity\":0.2},\"type\":\"scatter\"}],\"parcoords\":[{\"type\":\"parcoords\",\"line\":{\"colorbar\":{\"outlinewidth\":0,\"ticks\":\"\"}}}],\"scatterpolargl\":[{\"type\":\"scatterpolargl\",\"marker\":{\"colorbar\":{\"outlinewidth\":0,\"ticks\":\"\"}}}],\"bar\":[{\"error_x\":{\"color\":\"#2a3f5f\"},\"error_y\":{\"color\":\"#2a3f5f\"},\"marker\":{\"line\":{\"color\":\"#E5ECF6\",\"width\":0.5},\"pattern\":{\"fillmode\":\"overlay\",\"size\":10,\"solidity\":0.2}},\"type\":\"bar\"}],\"scattergeo\":[{\"type\":\"scattergeo\",\"marker\":{\"colorbar\":{\"outlinewidth\":0,\"ticks\":\"\"}}}],\"scatterpolar\":[{\"type\":\"scatterpolar\",\"marker\":{\"colorbar\":{\"outlinewidth\":0,\"ticks\":\"\"}}}],\"histogram\":[{\"marker\":{\"pattern\":{\"fillmode\":\"overlay\",\"size\":10,\"solidity\":0.2}},\"type\":\"histogram\"}],\"scattergl\":[{\"type\":\"scattergl\",\"marker\":{\"colorbar\":{\"outlinewidth\":0,\"ticks\":\"\"}}}],\"scatter3d\":[{\"type\":\"scatter3d\",\"line\":{\"colorbar\":{\"outlinewidth\":0,\"ticks\":\"\"}},\"marker\":{\"colorbar\":{\"outlinewidth\":0,\"ticks\":\"\"}}}],\"scattermapbox\":[{\"type\":\"scattermapbox\",\"marker\":{\"colorbar\":{\"outlinewidth\":0,\"ticks\":\"\"}}}],\"scatterternary\":[{\"type\":\"scatterternary\",\"marker\":{\"colorbar\":{\"outlinewidth\":0,\"ticks\":\"\"}}}],\"scattercarpet\":[{\"type\":\"scattercarpet\",\"marker\":{\"colorbar\":{\"outlinewidth\":0,\"ticks\":\"\"}}}],\"carpet\":[{\"aaxis\":{\"endlinecolor\":\"#2a3f5f\",\"gridcolor\":\"white\",\"linecolor\":\"white\",\"minorgridcolor\":\"white\",\"startlinecolor\":\"#2a3f5f\"},\"baxis\":{\"endlinecolor\":\"#2a3f5f\",\"gridcolor\":\"white\",\"linecolor\":\"white\",\"minorgridcolor\":\"white\",\"startlinecolor\":\"#2a3f5f\"},\"type\":\"carpet\"}],\"table\":[{\"cells\":{\"fill\":{\"color\":\"#EBF0F8\"},\"line\":{\"color\":\"white\"}},\"header\":{\"fill\":{\"color\":\"#C8D4E3\"},\"line\":{\"color\":\"white\"}},\"type\":\"table\"}],\"barpolar\":[{\"marker\":{\"line\":{\"color\":\"#E5ECF6\",\"width\":0.5},\"pattern\":{\"fillmode\":\"overlay\",\"size\":10,\"solidity\":0.2}},\"type\":\"barpolar\"}],\"pie\":[{\"automargin\":true,\"type\":\"pie\"}]},\"layout\":{\"autotypenumbers\":\"strict\",\"colorway\":[\"#636efa\",\"#EF553B\",\"#00cc96\",\"#ab63fa\",\"#FFA15A\",\"#19d3f3\",\"#FF6692\",\"#B6E880\",\"#FF97FF\",\"#FECB52\"],\"font\":{\"color\":\"#2a3f5f\"},\"hovermode\":\"closest\",\"hoverlabel\":{\"align\":\"left\"},\"paper_bgcolor\":\"white\",\"plot_bgcolor\":\"#E5ECF6\",\"polar\":{\"bgcolor\":\"#E5ECF6\",\"angularaxis\":{\"gridcolor\":\"white\",\"linecolor\":\"white\",\"ticks\":\"\"},\"radialaxis\":{\"gridcolor\":\"white\",\"linecolor\":\"white\",\"ticks\":\"\"}},\"ternary\":{\"bgcolor\":\"#E5ECF6\",\"aaxis\":{\"gridcolor\":\"white\",\"linecolor\":\"white\",\"ticks\":\"\"},\"baxis\":{\"gridcolor\":\"white\",\"linecolor\":\"white\",\"ticks\":\"\"},\"caxis\":{\"gridcolor\":\"white\",\"linecolor\":\"white\",\"ticks\":\"\"}},\"coloraxis\":{\"colorbar\":{\"outlinewidth\":0,\"ticks\":\"\"}},\"colorscale\":{\"sequential\":[[0.0,\"#0d0887\"],[0.1111111111111111,\"#46039f\"],[0.2222222222222222,\"#7201a8\"],[0.3333333333333333,\"#9c179e\"],[0.4444444444444444,\"#bd3786\"],[0.5555555555555556,\"#d8576b\"],[0.6666666666666666,\"#ed7953\"],[0.7777777777777778,\"#fb9f3a\"],[0.8888888888888888,\"#fdca26\"],[1.0,\"#f0f921\"]],\"sequentialminus\":[[0.0,\"#0d0887\"],[0.1111111111111111,\"#46039f\"],[0.2222222222222222,\"#7201a8\"],[0.3333333333333333,\"#9c179e\"],[0.4444444444444444,\"#bd3786\"],[0.5555555555555556,\"#d8576b\"],[0.6666666666666666,\"#ed7953\"],[0.7777777777777778,\"#fb9f3a\"],[0.8888888888888888,\"#fdca26\"],[1.0,\"#f0f921\"]],\"diverging\":[[0,\"#8e0152\"],[0.1,\"#c51b7d\"],[0.2,\"#de77ae\"],[0.3,\"#f1b6da\"],[0.4,\"#fde0ef\"],[0.5,\"#f7f7f7\"],[0.6,\"#e6f5d0\"],[0.7,\"#b8e186\"],[0.8,\"#7fbc41\"],[0.9,\"#4d9221\"],[1,\"#276419\"]]},\"xaxis\":{\"gridcolor\":\"white\",\"linecolor\":\"white\",\"ticks\":\"\",\"title\":{\"standoff\":15},\"zerolinecolor\":\"white\",\"automargin\":true,\"zerolinewidth\":2},\"yaxis\":{\"gridcolor\":\"white\",\"linecolor\":\"white\",\"ticks\":\"\",\"title\":{\"standoff\":15},\"zerolinecolor\":\"white\",\"automargin\":true,\"zerolinewidth\":2},\"scene\":{\"xaxis\":{\"backgroundcolor\":\"#E5ECF6\",\"gridcolor\":\"white\",\"linecolor\":\"white\",\"showbackground\":true,\"ticks\":\"\",\"zerolinecolor\":\"white\",\"gridwidth\":2},\"yaxis\":{\"backgroundcolor\":\"#E5ECF6\",\"gridcolor\":\"white\",\"linecolor\":\"white\",\"showbackground\":true,\"ticks\":\"\",\"zerolinecolor\":\"white\",\"gridwidth\":2},\"zaxis\":{\"backgroundcolor\":\"#E5ECF6\",\"gridcolor\":\"white\",\"linecolor\":\"white\",\"showbackground\":true,\"ticks\":\"\",\"zerolinecolor\":\"white\",\"gridwidth\":2}},\"shapedefaults\":{\"line\":{\"color\":\"#2a3f5f\"}},\"annotationdefaults\":{\"arrowcolor\":\"#2a3f5f\",\"arrowhead\":0,\"arrowwidth\":1},\"geo\":{\"bgcolor\":\"white\",\"landcolor\":\"#E5ECF6\",\"subunitcolor\":\"white\",\"showland\":true,\"showlakes\":true,\"lakecolor\":\"white\"},\"title\":{\"x\":0.05},\"mapbox\":{\"style\":\"light\"}}},\"xaxis\":{\"anchor\":\"y\",\"domain\":[0.0,1.0],\"title\":{\"text\":\"Radius Mean\"}},\"yaxis\":{\"anchor\":\"x\",\"domain\":[0.0,1.0],\"title\":{\"text\":\"Texture Mean\"}},\"legend\":{\"title\":{\"text\":\"diagnosis\"},\"tracegroupgap\":0},\"margin\":{\"t\":60},\"title\":{\"text\":\"Scatter Plot of Cancer Data\"}},                        {\"responsive\": true}                    ).then(function(){\n",
       "                            \n",
       "var gd = document.getElementById('6bfdaeeb-8f32-40ff-bfca-27a1c88148c7');\n",
       "var x = new MutationObserver(function (mutations, observer) {{\n",
       "        var display = window.getComputedStyle(gd).display;\n",
       "        if (!display || display === 'none') {{\n",
       "            console.log([gd, 'removed!']);\n",
       "            Plotly.purge(gd);\n",
       "            observer.disconnect();\n",
       "        }}\n",
       "}});\n",
       "\n",
       "// Listen for the removal of the full notebook cells\n",
       "var notebookContainer = gd.closest('#notebook-container');\n",
       "if (notebookContainer) {{\n",
       "    x.observe(notebookContainer, {childList: true});\n",
       "}}\n",
       "\n",
       "// Listen for the clearing of the current output cell\n",
       "var outputEl = gd.closest('.output');\n",
       "if (outputEl) {{\n",
       "    x.observe(outputEl, {childList: true});\n",
       "}}\n",
       "\n",
       "                        })                };                });            </script>        </div>"
      ]
     },
     "metadata": {},
     "output_type": "display_data"
    }
   ],
   "source": [
    "fig.update_layout(title='Scatter Plot of Cancer Data',\n",
    "                  xaxis_title='Radius Mean',\n",
    "                  yaxis_title='Texture Mean')"
   ]
  },
  {
   "cell_type": "code",
   "execution_count": 12,
   "id": "1c39b6fa",
   "metadata": {
    "execution": {
     "iopub.execute_input": "2024-07-14T08:25:23.112368Z",
     "iopub.status.busy": "2024-07-14T08:25:23.111950Z",
     "iopub.status.idle": "2024-07-14T08:25:23.122778Z",
     "shell.execute_reply": "2024-07-14T08:25:23.121318Z"
    },
    "papermill": {
     "duration": 0.020983,
     "end_time": "2024-07-14T08:25:23.125462",
     "exception": false,
     "start_time": "2024-07-14T08:25:23.104479",
     "status": "completed"
    },
    "tags": []
   },
   "outputs": [
    {
     "data": {
      "text/html": [
       "<div>                            <div id=\"07d9cfc3-5bc4-4d83-922f-68f075062c19\" class=\"plotly-graph-div\" style=\"height:525px; width:100%;\"></div>            <script type=\"text/javascript\">                require([\"plotly\"], function(Plotly) {                    window.PLOTLYENV=window.PLOTLYENV || {};                                    if (document.getElementById(\"07d9cfc3-5bc4-4d83-922f-68f075062c19\")) {                    Plotly.newPlot(                        \"07d9cfc3-5bc4-4d83-922f-68f075062c19\",                        [{\"customdata\":[[122.8,1001.0],[132.9,1326.0],[130.0,1203.0],[77.58,386.1],[135.1,1297.0],[82.57,477.1],[119.6,1040.0],[90.2,577.9],[87.5,519.8],[83.97,475.9],[102.7,797.8],[103.6,781.0],[132.4,1123.0],[103.7,782.7],[93.6,578.3],[96.73,658.8],[94.74,684.5],[108.1,798.8],[130.0,1260.0],[102.5,704.4],[137.2,1404.0],[110.0,904.6],[116.0,912.7],[97.41,644.8],[122.1,1094.0],[102.4,732.4],[115.0,955.1],[124.8,1088.0],[77.93,440.6],[112.8,899.3],[127.9,1162.0],[107.0,807.2],[110.1,869.5],[93.63,633.0],[95.54,698.8],[88.4,559.2],[86.18,563.0],[71.9,371.1],[128.3,1104.0],[87.32,545.2],[85.42,531.5],[123.7,1076.0],[85.98,534.6],[120.3,1033.0],[97.26,712.8],[125.5,1152.0],[95.55,656.9],[96.42,645.7],[82.69,499.0],[97.4,668.3],[123.6,1130.0],[114.2,929.4],[90.43,584.1],[104.1,817.7],[120.2,1006.0],[143.7,1245.0],[171.5,1878.0],[129.1,1132.0],[121.1,1075.0],[94.25,648.2],[122.0,1076.0],[100.2,728.2],[100.3,705.6],[132.4,1264.0],[94.48,642.5],[88.05,582.7],[87.21,530.2],[152.8,1509.0],[98.64,682.5],[105.7,782.6],[114.2,982.0],[121.4,1077.0],[166.2,1761.0],[87.76,572.6],[123.4,1138.0],[130.4,1192.0],[101.7,748.9],[106.2,809.8],[120.2,1075.0],[81.72,506.3],[96.85,678.1],[105.1,813.0],[78.99,432.0],[117.4,963.7],[126.3,1157.0],[130.7,1214.0],[152.1,1686.0],[109.3,886.3],[116.1,984.6],[85.84,565.4],[102.5,736.9],[109.3,832.9],[182.1,2250.0],[142.7,1311.0],[101.2,766.6],[98.92,710.6],[118.6,1041.0],[94.37,609.9],[81.15,477.4],[100.4,671.4],[90.63,588.9],[117.4,1024.0],[127.5,1148.0],[94.49,642.7],[115.1,951.6],[158.9,1685.0],[91.56,597.8],[98.78,716.6],[109.7,904.3],[134.7,1290.0],[188.5,2499.0],[114.5,948.0],[92.87,610.7],[90.96,578.9],[129.7,1230.0],[128.0,1223.0],[102.6,761.3],[85.26,503.2],[113.4,895.0],[134.4,1319.0],[153.5,1670.0],[132.5,1306.0],[113.4,920.6],[129.1,1155.0],[138.9,1364.0],[130.7,1206.0],[113.0,928.2],[126.5,1169.0],[91.43,602.4],[133.6,1207.0],[103.2,713.3],[110.2,773.5],[103.7,744.9],[132.9,1288.0],[111.0,933.1],[114.4,947.8],[100.0,758.6],[111.6,928.3],[135.7,1419.0],[147.3,1491.0],[115.2,998.9],[120.9,1102.0],[126.2,1138.0],[127.2,1145.0],[108.8,805.1],[75.0,431.1],[129.5,1217.0],[134.7,1247.0],[118.7,1027.0],[131.1,1274.0],[135.9,1264.0],[106.9,813.7],[107.5,826.8],[105.8,793.2],[111.8,918.6],[122.9,1092.0],[155.1,1747.0],[129.9,1194.0],[107.1,758.6],[174.2,2010.0],[98.0,716.6],[133.8,1293.0],[133.7,1234.0],[140.9,1546.0],[147.2,1482.0],[109.0,840.4],[141.3,1386.0],[134.8,1335.0],[73.3,361.6],[93.97,664.7],[128.9,1174.0],[102.4,744.7],[144.4,1407.0],[124.4,994.0],[117.8,991.7],[96.71,719.5],[102.9,803.1],[102.1,685.0],[133.8,1250.0],[123.7,1110.0],[91.12,599.5],[112.4,928.8],[117.5,990.0],[117.3,981.6],[138.1,1384.0],[127.7,1191.0],[111.2,930.9],[186.9,2501.0],[119.0,980.5],[109.8,815.8],[128.1,1167.0],[107.1,857.6],[118.4,1007.0],[121.3,1068.0],[137.8,1320.0],[92.33,595.9],[152.1,1682.0],[103.8,731.3],[88.64,556.7],[97.26,701.9],[120.8,1052.0],[130.5,1214.0],[165.5,1841.0],[134.7,1299.0],[137.8,1308.0],[93.77,629.8],[103.4,716.9],[143.0,1347.0],[142.0,1479.0],[131.2,1261.0],[108.3,858.1],[140.1,1265.0]],\"hovertemplate\":\"diagnosis=M\\u003cbr\\u003eradius_mean=%{x}\\u003cbr\\u003etexture_mean=%{y}\\u003cbr\\u003eperimeter_mean=%{customdata[0]}\\u003cbr\\u003earea_mean=%{customdata[1]}\\u003cextra\\u003e\\u003c\\u002fextra\\u003e\",\"legendgroup\":\"M\",\"marker\":{\"color\":\"#636efa\",\"symbol\":\"circle\"},\"mode\":\"markers\",\"name\":\"M\",\"orientation\":\"v\",\"showlegend\":true,\"x\":[17.99,20.57,19.69,11.42,20.29,12.45,18.25,13.71,13.0,12.46,16.02,15.78,19.17,15.85,13.73,14.54,14.68,16.13,19.81,15.34,21.16,16.65,17.14,14.58,18.61,15.3,17.57,18.63,11.84,17.02,19.27,16.13,16.74,14.25,14.99,13.48,13.44,10.95,19.07,13.28,13.17,18.65,13.17,18.22,15.1,19.21,14.71,14.25,12.68,14.78,18.94,17.2,13.8,16.07,18.05,20.18,25.22,19.1,18.46,14.48,19.02,15.37,15.06,20.26,14.42,13.61,13.11,22.27,14.87,15.78,17.95,18.66,24.25,13.61,19.0,19.79,15.46,16.16,18.45,12.77,14.95,16.11,11.8,17.68,19.19,19.59,23.27,16.78,17.47,13.43,15.46,16.46,27.22,21.09,15.7,15.28,18.31,14.22,12.34,14.86,13.77,18.08,19.18,14.45,17.54,23.29,13.81,15.12,17.01,20.58,28.11,17.42,14.19,13.86,19.8,19.53,15.75,12.83,17.05,20.51,23.21,20.48,17.46,19.4,20.94,19.73,17.3,19.45,13.96,19.55,15.32,15.66,15.53,20.31,17.35,17.29,15.61,17.19,20.73,21.75,17.93,18.81,19.16,19.4,16.24,11.76,19.53,20.09,18.22,20.16,20.34,16.27,16.26,16.03,17.06,18.77,23.51,19.68,15.75,25.73,15.08,20.44,20.2,21.71,22.01,16.35,21.37,20.64,11.08,14.6,19.55,15.49,21.61,17.91,17.99,15.13,15.5,14.9,20.18,18.82,13.98,17.27,18.03,17.75,21.1,19.59,17.08,27.42,17.6,16.25,19.44,16.69,18.01,18.49,20.59,13.82,23.09,15.46,13.4,15.05,18.31,19.89,24.63,20.47,20.55,14.27,15.22,20.92,21.56,20.13,16.6,20.6],\"xaxis\":\"x\",\"y\":[10.38,17.77,21.25,20.38,14.34,15.7,19.98,20.83,21.82,24.04,23.24,17.89,24.8,23.95,22.61,27.54,20.13,20.68,22.15,14.26,23.04,21.38,16.4,21.53,20.25,25.27,15.05,25.11,18.7,23.98,26.47,17.88,21.59,21.72,25.2,20.82,21.58,21.35,24.81,20.28,21.81,17.6,18.66,18.7,22.02,18.57,21.59,22.15,23.84,23.94,21.31,24.52,15.79,19.65,16.15,23.97,24.91,26.29,18.52,21.46,24.59,22.76,19.83,23.03,19.77,24.98,15.56,19.67,16.67,22.91,20.01,17.12,20.2,24.69,18.91,25.12,19.48,21.54,21.91,22.47,17.57,18.05,16.58,20.74,15.94,18.15,22.04,18.8,24.68,19.63,11.89,20.11,21.87,26.57,20.31,22.41,18.58,23.12,26.86,23.21,22.29,21.84,22.49,20.22,19.32,26.67,23.75,16.68,20.26,22.14,18.47,25.56,23.81,16.93,21.56,32.47,20.25,22.33,19.08,27.81,26.97,21.46,39.28,23.5,23.56,19.82,17.08,19.33,17.05,28.77,17.27,23.2,33.56,27.06,23.06,22.13,19.38,22.07,31.12,20.99,24.48,19.98,26.6,18.18,18.77,18.14,18.9,23.86,18.87,19.66,21.51,20.71,21.88,15.51,21.0,21.43,24.27,21.68,19.22,17.46,25.74,21.78,26.83,17.25,21.9,23.29,15.1,17.35,18.83,23.29,23.21,19.97,22.28,21.02,20.66,29.81,21.08,22.53,19.54,21.97,19.62,25.42,16.85,28.03,20.52,25.0,27.15,26.27,23.33,19.51,18.82,20.2,20.56,17.52,21.24,24.49,19.83,23.95,20.52,19.07,20.58,20.26,21.6,20.67,20.86,22.55,30.62,25.09,22.39,28.25,28.08,29.33],\"yaxis\":\"y\",\"type\":\"scatter\"},{\"customdata\":[[87.46,566.3],[85.63,520.0],[60.34,273.9],[82.61,523.8],[51.71,201.9],[78.04,449.3],[86.91,561.0],[74.72,427.9],[87.21,571.8],[75.71,437.6],[73.34,409.0],[82.61,527.2],[54.34,224.5],[64.55,311.9],[54.66,221.8],[59.2,260.9],[60.11,269.4],[71.8,394.1],[58.79,250.5],[81.37,502.5],[58.79,244.0],[79.19,470.9],[87.91,559.2],[83.19,506.3],[73.81,401.5],[86.49,520.0],[76.95,443.3],[79.78,466.1],[95.77,651.9],[94.57,662.7],[84.74,551.7],[86.6,555.1],[77.79,451.1],[62.11,294.5],[74.34,412.6],[43.79,143.5],[77.22,458.7],[63.95,298.3],[67.41,336.1],[75.17,412.5],[79.01,466.7],[72.48,396.5],[62.5,290.2],[82.15,480.4],[97.83,629.9],[68.64,334.2],[55.84,230.9],[76.53,438.6],[58.74,245.2],[73.34,403.3],[94.28,640.7],[86.1,553.5],[88.44,588.7],[99.58,674.5],[79.08,455.8],[102.0,761.7],[74.72,423.6],[73.06,399.8],[73.0,384.8],[61.24,288.5],[73.66,398.0],[83.74,512.2],[68.26,355.3],[78.11,432.8],[97.84,689.5],[93.97,640.1],[88.12,585.0],[83.51,519.4],[53.27,203.9],[63.78,300.2],[70.87,381.9],[85.31,538.9],[78.27,460.3],[108.4,880.2],[76.84,448.6],[68.69,366.8],[76.1,419.8],[79.85,464.5],[95.5,690.2],[68.77,357.6],[96.22,685.9],[78.85,464.1],[70.21,372.7],[67.49,349.6],[54.42,227.2],[64.6,302.4],[82.01,526.4],[81.29,508.8],[73.53,402.0],[63.76,317.5],[74.68,420.3],[75.27,428.9],[78.83,463.7],[82.02,507.4],[60.73,288.1],[82.53,516.4],[78.54,461.0],[81.09,481.9],[62.92,295.4],[87.02,529.4],[98.17,725.5],[75.51,428.0],[77.32,432.2],[65.05,321.2],[87.88,568.9],[88.59,561.3],[65.12,313.1],[84.55,546.4],[92.51,641.2],[66.62,329.6],[97.45,684.5],[81.35,496.4],[71.76,395.7],[70.79,386.8],[60.21,279.6],[89.79,603.4],[92.55,623.9],[87.38,575.3],[78.61,476.5],[73.93,389.4],[88.54,590.0],[66.72,337.7],[84.13,541.6],[84.95,512.2],[68.01,347.0],[73.87,406.3],[73.28,407.4],[69.28,346.4],[87.16,561.0],[82.38,512.2],[69.5,344.9],[90.3,632.6],[72.23,388.0],[61.5,289.9],[76.2,435.6],[71.79,396.6],[86.24,572.3],[88.99,587.4],[74.24,427.3],[84.08,516.6],[79.83,489.0],[77.87,441.0],[81.89,515.9],[73.72,394.1],[72.17,396.0],[96.03,651.0],[97.03,687.3],[83.14,513.7],[75.54,432.7],[81.78,492.1],[88.06,582.7],[69.14,363.7],[91.22,633.1],[66.85,334.2],[80.43,471.3],[66.86,334.3],[73.59,403.1],[74.23,417.2],[84.07,537.3],[56.36,246.3],[85.69,566.2],[82.71,530.6],[74.33,418.7],[92.68,664.9],[82.29,504.1],[73.73,409.1],[54.09,221.2],[79.19,481.6],[77.25,461.4],[60.07,244.5],[78.6,477.3],[66.52,324.2],[82.82,504.8],[78.01,457.9],[81.25,489.9],[90.03,616.5],[76.09,446.0],[84.52,514.0],[71.94,387.3],[71.38,390.0],[77.88,464.4],[84.08,514.3],[64.41,310.8],[94.15,641.2],[61.64,280.5],[71.49,373.9],[75.03,420.3],[66.2,321.6],[76.66,445.3],[94.87,668.7],[73.02,402.7],[77.23,426.7],[73.7,421.0],[71.24,384.6],[81.92,485.8],[85.09,512.0],[88.52,593.7],[56.74,241.0],[59.82,278.6],[79.42,491.9],[85.24,546.1],[81.87,496.6],[106.6,838.1],[85.48,552.4],[78.31,458.4],[97.65,711.8],[87.84,579.1],[106.3,788.5],[70.15,338.3],[85.89,562.1],[88.27,580.6],[73.16,386.3],[70.67,372.7],[78.75,447.8],[80.64,462.9],[85.79,541.8],[78.78,462.0],[88.37,596.6],[73.38,392.0],[65.75,321.6],[55.27,234.3],[78.07,446.2],[89.75,609.1],[88.1,558.1],[83.05,508.3],[70.31,378.2],[75.26,431.9],[76.14,442.7],[84.18,525.2],[83.18,507.6],[78.29,469.1],[70.39,370.0],[104.3,800.0],[82.63,514.5],[78.41,466.1],[72.49,399.8],[70.92,373.2],[59.75,268.8],[97.53,693.7],[76.39,433.8],[59.6,271.2],[80.88,495.0],[70.95,380.3],[74.2,409.7],[98.22,656.1],[75.46,408.2],[89.46,575.3],[61.93,289.7],[63.19,307.3],[67.49,333.6],[68.79,359.9],[70.47,381.1],[80.98,501.3],[81.47,467.8],[94.89,673.7],[82.67,509.2],[89.78,611.2],[88.68,592.6],[89.59,606.5],[71.73,371.5],[88.37,585.9],[66.82,340.9],[77.61,441.3],[95.88,674.8],[94.25,659.7],[76.83,432.0],[76.77,442.5],[93.86,644.2],[80.62,492.9],[86.34,557.2],[74.87,415.1],[84.1,537.9],[82.61,520.2],[61.68,290.9],[92.25,646.1],[73.88,412.7],[84.28,537.3],[86.87,542.9],[85.98,536.9],[61.06,286.3],[76.38,408.8],[61.49,289.1],[76.85,449.9],[96.45,686.9],[77.42,465.4],[70.41,358.9],[82.89,506.9],[92.41,618.4],[88.97,599.4],[73.99,404.9],[78.29,455.3],[88.73,602.9],[87.32,546.3],[87.76,571.1],[102.8,747.2],[82.85,476.7],[94.21,666.0],[75.49,420.5],[78.18,466.5],[114.6,992.1],[78.83,477.3],[84.06,538.7],[96.12,680.9],[82.69,485.6],[80.45,480.1],[98.73,689.4],[81.25,476.3],[61.49,248.7],[64.12,272.5],[79.47,453.1],[71.25,366.5],[104.7,819.8],[76.31,426.0],[94.66,680.7],[94.29,658.8],[72.76,391.2],[84.45,493.1],[82.51,493.8],[59.96,257.8],[71.3,388.1],[88.73,571.0],[63.0,293.2],[54.53,221.3],[87.44,551.1],[78.94,468.5],[90.31,594.2],[77.83,445.2],[75.89,422.9],[75.21,416.2],[87.76,575.5],[70.79,365.6],[76.37,406.4],[47.98,178.8],[48.34,170.4],[74.65,402.9],[95.81,656.4],[94.7,668.6],[84.88,538.4],[89.77,584.8],[87.19,573.2],[65.31,324.9],[65.85,320.8],[61.05,285.7],[68.89,361.6],[68.51,360.5],[71.49,378.4],[81.35,507.9],[59.01,264.0],[82.5,514.3],[65.67,321.4],[64.73,311.7],[59.26,271.3],[96.39,657.1],[74.52,403.5],[91.38,600.4],[70.67,386.0],[47.92,181.0]],\"hovertemplate\":\"diagnosis=B\\u003cbr\\u003eradius_mean=%{x}\\u003cbr\\u003etexture_mean=%{y}\\u003cbr\\u003eperimeter_mean=%{customdata[0]}\\u003cbr\\u003earea_mean=%{customdata[1]}\\u003cextra\\u003e\\u003c\\u002fextra\\u003e\",\"legendgroup\":\"B\",\"marker\":{\"color\":\"#EF553B\",\"symbol\":\"circle\"},\"mode\":\"markers\",\"name\":\"B\",\"orientation\":\"v\",\"showlegend\":true,\"x\":[13.54,13.08,9.504,13.03,8.196,12.05,13.49,11.76,13.64,11.94,11.52,13.05,8.618,10.17,8.598,9.173,9.465,11.31,9.029,12.78,8.888,12.31,13.53,12.86,11.45,13.34,12.0,12.36,14.64,14.62,13.27,13.45,12.18,9.787,11.6,6.981,12.18,9.876,10.49,11.64,12.36,11.34,9.777,12.63,14.26,10.51,8.726,11.93,8.95,11.41,14.5,13.37,13.85,15.1,12.19,15.71,11.71,11.43,11.28,9.738,11.43,12.9,10.75,11.9,14.95,14.44,13.74,13.0,8.219,9.731,11.15,13.15,12.25,16.84,12.06,10.9,11.75,12.34,14.97,10.8,14.97,12.32,11.08,10.66,8.671,9.904,13.01,12.81,11.41,10.08,11.71,11.81,12.3,12.77,9.72,12.91,12.23,12.47,9.876,13.11,15.27,11.84,11.89,10.2,13.65,13.56,10.18,13.27,14.34,10.44,15.0,12.62,11.32,11.22,9.567,14.03,14.22,13.64,12.42,11.3,13.75,10.48,13.2,12.89,10.65,11.52,11.5,10.6,13.59,12.87,10.71,14.29,11.29,9.742,11.89,11.33,13.59,13.85,11.74,12.89,12.58,11.94,12.89,11.26,11.37,14.41,14.96,12.95,11.85,12.72,13.77,10.91,14.26,10.51,12.46,10.49,11.46,11.6,13.2,9.0,13.5,13.05,11.7,14.61,12.76,11.54,8.597,12.49,12.18,9.042,12.43,10.25,12.86,12.2,12.67,14.11,12.03,12.98,11.22,11.25,12.3,12.99,10.05,14.42,9.606,11.06,11.71,10.26,12.06,14.76,11.47,11.95,11.66,11.14,12.56,13.05,13.87,8.878,9.436,12.54,13.3,12.76,16.5,13.4,12.21,15.19,13.69,16.17,10.57,13.46,13.66,11.27,11.04,12.05,12.39,13.28,12.21,13.88,11.27,10.26,8.734,12.1,14.06,13.51,12.8,11.06,11.8,11.93,12.96,12.94,12.34,10.94,16.14,12.85,12.27,11.36,11.04,9.397,14.99,11.89,9.405,12.7,11.16,11.57,14.69,11.61,13.66,9.742,10.03,10.48,10.8,11.13,12.72,12.4,14.86,12.87,14.04,13.85,14.02,10.97,13.78,10.57,11.99,14.8,14.53,11.87,12.0,14.53,12.62,13.38,11.63,13.21,13.0,9.755,14.4,11.6,13.17,13.24,13.14,9.668,11.62,9.667,12.04,14.92,12.27,10.88,12.83,14.2,13.9,11.49,12.16,13.9,13.47,13.7,15.73,12.45,14.64,11.68,12.25,17.85,12.46,13.16,14.87,12.65,12.47,15.04,12.54,9.268,9.676,12.22,11.06,16.3,11.74,14.81,14.58,11.34,12.88,12.75,9.295,11.26,13.71,9.847,8.571,13.46,12.34,13.94,12.07,11.75,11.67,13.68,10.96,11.69,7.729,7.691,11.54,14.47,14.74,13.21,13.87,13.62,10.32,10.26,9.683,10.82,10.86,11.13,12.77,9.333,12.88,10.29,10.16,9.423,14.59,11.51,14.05,11.2,7.76],\"xaxis\":\"x\",\"y\":[14.36,15.71,12.44,18.42,16.84,14.63,22.3,21.6,16.34,18.24,18.75,19.31,11.79,14.88,20.98,13.86,21.01,19.04,17.33,16.49,14.64,16.52,10.94,18.0,20.97,15.86,15.65,21.8,15.24,24.02,14.76,18.3,17.84,19.94,12.84,13.43,20.52,19.4,19.29,18.33,18.54,21.26,16.99,20.76,19.65,20.19,15.83,21.53,15.76,10.82,10.89,16.39,17.21,16.39,13.29,13.93,16.67,15.39,13.39,11.97,17.31,15.92,14.97,14.65,18.77,15.18,17.91,20.78,20.7,15.34,13.08,15.34,17.94,19.46,12.74,12.96,20.18,22.22,19.76,9.71,16.95,12.39,14.71,15.15,14.45,18.06,22.22,13.06,14.92,15.11,17.19,17.39,15.9,21.41,18.22,16.33,19.56,18.6,17.27,22.54,12.91,18.94,18.35,17.48,13.16,13.9,17.53,17.02,13.47,15.46,15.51,23.97,27.08,33.81,15.91,21.25,27.85,15.6,15.04,18.19,23.77,19.86,17.43,14.11,25.22,14.93,18.45,18.95,21.84,16.21,20.39,16.82,13.04,15.67,17.36,14.16,17.84,15.18,14.02,15.7,18.4,20.76,13.12,19.96,18.89,19.73,19.1,16.02,17.46,13.78,13.27,12.35,18.17,23.09,19.89,18.61,18.16,24.49,15.82,14.4,12.71,13.84,19.11,15.69,13.37,10.72,18.6,16.85,14.08,18.9,17.0,16.18,13.32,15.21,17.3,12.88,17.93,19.35,19.86,14.78,19.02,14.23,17.53,16.54,16.84,14.96,15.45,14.71,18.9,14.74,16.03,14.96,17.07,14.07,19.07,18.59,16.21,15.49,18.32,18.07,21.57,18.84,18.29,16.95,18.02,13.21,16.07,16.07,20.22,28.21,15.15,12.96,14.93,22.72,17.48,13.72,14.09,16.16,15.5,12.22,16.84,17.72,17.18,18.89,17.46,14.83,17.26,10.91,18.29,16.17,14.95,18.59,14.86,21.37,17.92,17.57,16.83,21.68,22.11,21.17,21.7,12.17,21.41,19.04,13.98,16.02,19.13,19.12,21.28,14.98,21.98,16.62,17.67,17.68,16.94,19.54,15.98,19.6,15.66,17.2,15.79,18.32,24.89,17.66,19.34,21.54,28.23,13.98,17.15,30.72,29.29,25.25,25.13,28.2,26.99,18.36,18.22,20.13,20.74,18.1,18.18,18.49,28.14,14.93,29.97,15.62,15.73,20.53,16.62,14.59,18.03,19.24,14.06,17.64,11.28,16.41,16.85,16.17,22.44,13.23,12.83,20.54,20.21,18.17,17.31,16.74,16.32,12.87,13.14,20.04,17.12,15.7,14.69,14.7,13.66,18.61,18.22,16.7,13.9,19.83,18.68,15.68,13.1,18.75,12.27,13.17,13.44,17.56,20.02,16.33,17.62,24.44,25.49,25.44,14.44,24.99,25.42,28.06,20.7,23.23,16.35,16.58,19.34,24.21,21.48,22.44,29.43,21.94,28.92,27.61,19.59,27.88,22.68,23.93,27.15,29.37,24.54],\"yaxis\":\"y\",\"type\":\"scatter\"}],                        {\"template\":{\"data\":{\"histogram2dcontour\":[{\"type\":\"histogram2dcontour\",\"colorbar\":{\"outlinewidth\":0,\"ticks\":\"\"},\"colorscale\":[[0.0,\"#0d0887\"],[0.1111111111111111,\"#46039f\"],[0.2222222222222222,\"#7201a8\"],[0.3333333333333333,\"#9c179e\"],[0.4444444444444444,\"#bd3786\"],[0.5555555555555556,\"#d8576b\"],[0.6666666666666666,\"#ed7953\"],[0.7777777777777778,\"#fb9f3a\"],[0.8888888888888888,\"#fdca26\"],[1.0,\"#f0f921\"]]}],\"choropleth\":[{\"type\":\"choropleth\",\"colorbar\":{\"outlinewidth\":0,\"ticks\":\"\"}}],\"histogram2d\":[{\"type\":\"histogram2d\",\"colorbar\":{\"outlinewidth\":0,\"ticks\":\"\"},\"colorscale\":[[0.0,\"#0d0887\"],[0.1111111111111111,\"#46039f\"],[0.2222222222222222,\"#7201a8\"],[0.3333333333333333,\"#9c179e\"],[0.4444444444444444,\"#bd3786\"],[0.5555555555555556,\"#d8576b\"],[0.6666666666666666,\"#ed7953\"],[0.7777777777777778,\"#fb9f3a\"],[0.8888888888888888,\"#fdca26\"],[1.0,\"#f0f921\"]]}],\"heatmap\":[{\"type\":\"heatmap\",\"colorbar\":{\"outlinewidth\":0,\"ticks\":\"\"},\"colorscale\":[[0.0,\"#0d0887\"],[0.1111111111111111,\"#46039f\"],[0.2222222222222222,\"#7201a8\"],[0.3333333333333333,\"#9c179e\"],[0.4444444444444444,\"#bd3786\"],[0.5555555555555556,\"#d8576b\"],[0.6666666666666666,\"#ed7953\"],[0.7777777777777778,\"#fb9f3a\"],[0.8888888888888888,\"#fdca26\"],[1.0,\"#f0f921\"]]}],\"heatmapgl\":[{\"type\":\"heatmapgl\",\"colorbar\":{\"outlinewidth\":0,\"ticks\":\"\"},\"colorscale\":[[0.0,\"#0d0887\"],[0.1111111111111111,\"#46039f\"],[0.2222222222222222,\"#7201a8\"],[0.3333333333333333,\"#9c179e\"],[0.4444444444444444,\"#bd3786\"],[0.5555555555555556,\"#d8576b\"],[0.6666666666666666,\"#ed7953\"],[0.7777777777777778,\"#fb9f3a\"],[0.8888888888888888,\"#fdca26\"],[1.0,\"#f0f921\"]]}],\"contourcarpet\":[{\"type\":\"contourcarpet\",\"colorbar\":{\"outlinewidth\":0,\"ticks\":\"\"}}],\"contour\":[{\"type\":\"contour\",\"colorbar\":{\"outlinewidth\":0,\"ticks\":\"\"},\"colorscale\":[[0.0,\"#0d0887\"],[0.1111111111111111,\"#46039f\"],[0.2222222222222222,\"#7201a8\"],[0.3333333333333333,\"#9c179e\"],[0.4444444444444444,\"#bd3786\"],[0.5555555555555556,\"#d8576b\"],[0.6666666666666666,\"#ed7953\"],[0.7777777777777778,\"#fb9f3a\"],[0.8888888888888888,\"#fdca26\"],[1.0,\"#f0f921\"]]}],\"surface\":[{\"type\":\"surface\",\"colorbar\":{\"outlinewidth\":0,\"ticks\":\"\"},\"colorscale\":[[0.0,\"#0d0887\"],[0.1111111111111111,\"#46039f\"],[0.2222222222222222,\"#7201a8\"],[0.3333333333333333,\"#9c179e\"],[0.4444444444444444,\"#bd3786\"],[0.5555555555555556,\"#d8576b\"],[0.6666666666666666,\"#ed7953\"],[0.7777777777777778,\"#fb9f3a\"],[0.8888888888888888,\"#fdca26\"],[1.0,\"#f0f921\"]]}],\"mesh3d\":[{\"type\":\"mesh3d\",\"colorbar\":{\"outlinewidth\":0,\"ticks\":\"\"}}],\"scatter\":[{\"fillpattern\":{\"fillmode\":\"overlay\",\"size\":10,\"solidity\":0.2},\"type\":\"scatter\"}],\"parcoords\":[{\"type\":\"parcoords\",\"line\":{\"colorbar\":{\"outlinewidth\":0,\"ticks\":\"\"}}}],\"scatterpolargl\":[{\"type\":\"scatterpolargl\",\"marker\":{\"colorbar\":{\"outlinewidth\":0,\"ticks\":\"\"}}}],\"bar\":[{\"error_x\":{\"color\":\"#2a3f5f\"},\"error_y\":{\"color\":\"#2a3f5f\"},\"marker\":{\"line\":{\"color\":\"#E5ECF6\",\"width\":0.5},\"pattern\":{\"fillmode\":\"overlay\",\"size\":10,\"solidity\":0.2}},\"type\":\"bar\"}],\"scattergeo\":[{\"type\":\"scattergeo\",\"marker\":{\"colorbar\":{\"outlinewidth\":0,\"ticks\":\"\"}}}],\"scatterpolar\":[{\"type\":\"scatterpolar\",\"marker\":{\"colorbar\":{\"outlinewidth\":0,\"ticks\":\"\"}}}],\"histogram\":[{\"marker\":{\"pattern\":{\"fillmode\":\"overlay\",\"size\":10,\"solidity\":0.2}},\"type\":\"histogram\"}],\"scattergl\":[{\"type\":\"scattergl\",\"marker\":{\"colorbar\":{\"outlinewidth\":0,\"ticks\":\"\"}}}],\"scatter3d\":[{\"type\":\"scatter3d\",\"line\":{\"colorbar\":{\"outlinewidth\":0,\"ticks\":\"\"}},\"marker\":{\"colorbar\":{\"outlinewidth\":0,\"ticks\":\"\"}}}],\"scattermapbox\":[{\"type\":\"scattermapbox\",\"marker\":{\"colorbar\":{\"outlinewidth\":0,\"ticks\":\"\"}}}],\"scatterternary\":[{\"type\":\"scatterternary\",\"marker\":{\"colorbar\":{\"outlinewidth\":0,\"ticks\":\"\"}}}],\"scattercarpet\":[{\"type\":\"scattercarpet\",\"marker\":{\"colorbar\":{\"outlinewidth\":0,\"ticks\":\"\"}}}],\"carpet\":[{\"aaxis\":{\"endlinecolor\":\"#2a3f5f\",\"gridcolor\":\"white\",\"linecolor\":\"white\",\"minorgridcolor\":\"white\",\"startlinecolor\":\"#2a3f5f\"},\"baxis\":{\"endlinecolor\":\"#2a3f5f\",\"gridcolor\":\"white\",\"linecolor\":\"white\",\"minorgridcolor\":\"white\",\"startlinecolor\":\"#2a3f5f\"},\"type\":\"carpet\"}],\"table\":[{\"cells\":{\"fill\":{\"color\":\"#EBF0F8\"},\"line\":{\"color\":\"white\"}},\"header\":{\"fill\":{\"color\":\"#C8D4E3\"},\"line\":{\"color\":\"white\"}},\"type\":\"table\"}],\"barpolar\":[{\"marker\":{\"line\":{\"color\":\"#E5ECF6\",\"width\":0.5},\"pattern\":{\"fillmode\":\"overlay\",\"size\":10,\"solidity\":0.2}},\"type\":\"barpolar\"}],\"pie\":[{\"automargin\":true,\"type\":\"pie\"}]},\"layout\":{\"autotypenumbers\":\"strict\",\"colorway\":[\"#636efa\",\"#EF553B\",\"#00cc96\",\"#ab63fa\",\"#FFA15A\",\"#19d3f3\",\"#FF6692\",\"#B6E880\",\"#FF97FF\",\"#FECB52\"],\"font\":{\"color\":\"#2a3f5f\"},\"hovermode\":\"closest\",\"hoverlabel\":{\"align\":\"left\"},\"paper_bgcolor\":\"white\",\"plot_bgcolor\":\"#E5ECF6\",\"polar\":{\"bgcolor\":\"#E5ECF6\",\"angularaxis\":{\"gridcolor\":\"white\",\"linecolor\":\"white\",\"ticks\":\"\"},\"radialaxis\":{\"gridcolor\":\"white\",\"linecolor\":\"white\",\"ticks\":\"\"}},\"ternary\":{\"bgcolor\":\"#E5ECF6\",\"aaxis\":{\"gridcolor\":\"white\",\"linecolor\":\"white\",\"ticks\":\"\"},\"baxis\":{\"gridcolor\":\"white\",\"linecolor\":\"white\",\"ticks\":\"\"},\"caxis\":{\"gridcolor\":\"white\",\"linecolor\":\"white\",\"ticks\":\"\"}},\"coloraxis\":{\"colorbar\":{\"outlinewidth\":0,\"ticks\":\"\"}},\"colorscale\":{\"sequential\":[[0.0,\"#0d0887\"],[0.1111111111111111,\"#46039f\"],[0.2222222222222222,\"#7201a8\"],[0.3333333333333333,\"#9c179e\"],[0.4444444444444444,\"#bd3786\"],[0.5555555555555556,\"#d8576b\"],[0.6666666666666666,\"#ed7953\"],[0.7777777777777778,\"#fb9f3a\"],[0.8888888888888888,\"#fdca26\"],[1.0,\"#f0f921\"]],\"sequentialminus\":[[0.0,\"#0d0887\"],[0.1111111111111111,\"#46039f\"],[0.2222222222222222,\"#7201a8\"],[0.3333333333333333,\"#9c179e\"],[0.4444444444444444,\"#bd3786\"],[0.5555555555555556,\"#d8576b\"],[0.6666666666666666,\"#ed7953\"],[0.7777777777777778,\"#fb9f3a\"],[0.8888888888888888,\"#fdca26\"],[1.0,\"#f0f921\"]],\"diverging\":[[0,\"#8e0152\"],[0.1,\"#c51b7d\"],[0.2,\"#de77ae\"],[0.3,\"#f1b6da\"],[0.4,\"#fde0ef\"],[0.5,\"#f7f7f7\"],[0.6,\"#e6f5d0\"],[0.7,\"#b8e186\"],[0.8,\"#7fbc41\"],[0.9,\"#4d9221\"],[1,\"#276419\"]]},\"xaxis\":{\"gridcolor\":\"white\",\"linecolor\":\"white\",\"ticks\":\"\",\"title\":{\"standoff\":15},\"zerolinecolor\":\"white\",\"automargin\":true,\"zerolinewidth\":2},\"yaxis\":{\"gridcolor\":\"white\",\"linecolor\":\"white\",\"ticks\":\"\",\"title\":{\"standoff\":15},\"zerolinecolor\":\"white\",\"automargin\":true,\"zerolinewidth\":2},\"scene\":{\"xaxis\":{\"backgroundcolor\":\"#E5ECF6\",\"gridcolor\":\"white\",\"linecolor\":\"white\",\"showbackground\":true,\"ticks\":\"\",\"zerolinecolor\":\"white\",\"gridwidth\":2},\"yaxis\":{\"backgroundcolor\":\"#E5ECF6\",\"gridcolor\":\"white\",\"linecolor\":\"white\",\"showbackground\":true,\"ticks\":\"\",\"zerolinecolor\":\"white\",\"gridwidth\":2},\"zaxis\":{\"backgroundcolor\":\"#E5ECF6\",\"gridcolor\":\"white\",\"linecolor\":\"white\",\"showbackground\":true,\"ticks\":\"\",\"zerolinecolor\":\"white\",\"gridwidth\":2}},\"shapedefaults\":{\"line\":{\"color\":\"#2a3f5f\"}},\"annotationdefaults\":{\"arrowcolor\":\"#2a3f5f\",\"arrowhead\":0,\"arrowwidth\":1},\"geo\":{\"bgcolor\":\"white\",\"landcolor\":\"#E5ECF6\",\"subunitcolor\":\"white\",\"showland\":true,\"showlakes\":true,\"lakecolor\":\"white\"},\"title\":{\"x\":0.05},\"mapbox\":{\"style\":\"light\"}}},\"xaxis\":{\"anchor\":\"y\",\"domain\":[0.0,1.0],\"title\":{\"text\":\"Radius Mean\"}},\"yaxis\":{\"anchor\":\"x\",\"domain\":[0.0,1.0],\"title\":{\"text\":\"Texture Mean\"}},\"legend\":{\"title\":{\"text\":\"diagnosis\"},\"tracegroupgap\":0},\"margin\":{\"t\":60},\"title\":{\"text\":\"Scatter Plot of Cancer Data\"}},                        {\"responsive\": true}                    ).then(function(){\n",
       "                            \n",
       "var gd = document.getElementById('07d9cfc3-5bc4-4d83-922f-68f075062c19');\n",
       "var x = new MutationObserver(function (mutations, observer) {{\n",
       "        var display = window.getComputedStyle(gd).display;\n",
       "        if (!display || display === 'none') {{\n",
       "            console.log([gd, 'removed!']);\n",
       "            Plotly.purge(gd);\n",
       "            observer.disconnect();\n",
       "        }}\n",
       "}});\n",
       "\n",
       "// Listen for the removal of the full notebook cells\n",
       "var notebookContainer = gd.closest('#notebook-container');\n",
       "if (notebookContainer) {{\n",
       "    x.observe(notebookContainer, {childList: true});\n",
       "}}\n",
       "\n",
       "// Listen for the clearing of the current output cell\n",
       "var outputEl = gd.closest('.output');\n",
       "if (outputEl) {{\n",
       "    x.observe(outputEl, {childList: true});\n",
       "}}\n",
       "\n",
       "                        })                };                });            </script>        </div>"
      ]
     },
     "metadata": {},
     "output_type": "display_data"
    }
   ],
   "source": [
    "fig.show()"
   ]
  },
  {
   "cell_type": "code",
   "execution_count": 13,
   "id": "4b94bda8",
   "metadata": {
    "execution": {
     "iopub.execute_input": "2024-07-14T08:25:23.140728Z",
     "iopub.status.busy": "2024-07-14T08:25:23.140298Z",
     "iopub.status.idle": "2024-07-14T08:25:23.505324Z",
     "shell.execute_reply": "2024-07-14T08:25:23.504210Z"
    },
    "papermill": {
     "duration": 0.375547,
     "end_time": "2024-07-14T08:25:23.507766",
     "exception": false,
     "start_time": "2024-07-14T08:25:23.132219",
     "status": "completed"
    },
    "tags": []
   },
   "outputs": [
    {
     "data": {
      "application/vnd.jupyter.widget-view+json": {
       "model_id": "ffd3349c43b649788ad6d42ff6f41993",
       "version_major": 2,
       "version_minor": 0
      },
      "text/plain": [
       "interactive(children=(FloatSlider(value=0.5, description='Threshold:', max=1.0, step=0.01), Output()), _dom_cl…"
      ]
     },
     "metadata": {},
     "output_type": "display_data"
    }
   ],
   "source": [
    "\n",
    "\n",
    "# Function to plot confusion matrix based on threshold\n",
    "def plot_confusion_matrix(threshold=0.5):\n",
    "    y_prob = model.predict_proba(X_test)[:, 1]\n",
    "    y_pred = (y_prob > threshold).astype(int)  # Predicted labels as integers (0 or 1)\n",
    "    \n",
    "    # Convert y_pred to match the data type of y_true (string labels 'B' and 'M')\n",
    "    y_pred_labels = ['B' if pred == 0 else 'M' for pred in y_pred]\n",
    "\n",
    "    # Compute confusion matrix\n",
    "    cm = confusion_matrix(y_test, y_pred_labels, labels=['B', 'M'])\n",
    "\n",
    "    # Plot confusion matrix\n",
    "    plt.figure(figsize=(8, 6))\n",
    "    sns.heatmap(cm, annot=True, fmt='d', cmap='Blues', \n",
    "                xticklabels=['Benign', 'Malignant'], yticklabels=['Benign', 'Malignant'])\n",
    "    plt.xlabel('Predicted Label')\n",
    "    plt.ylabel('True Label')\n",
    "    plt.title('Confusion Matrix')\n",
    "\n",
    "# Create a slider widget for threshold control\n",
    "threshold_slider = widgets.FloatSlider(value=0.5, min=0, max=1, step=0.01, description='Threshold:')\n",
    "widgets.interactive(plot_confusion_matrix, threshold=threshold_slider)\n"
   ]
  }
 ],
 "metadata": {
  "kaggle": {
   "accelerator": "none",
   "dataSources": [],
   "dockerImageVersionId": 30746,
   "isGpuEnabled": false,
   "isInternetEnabled": true,
   "language": "python",
   "sourceType": "notebook"
  },
  "kernelspec": {
   "display_name": "Python 3 (ipykernel)",
   "language": "python",
   "name": "python3"
  },
  "language_info": {
   "codemirror_mode": {
    "name": "ipython",
    "version": 3
   },
   "file_extension": ".py",
   "mimetype": "text/x-python",
   "name": "python",
   "nbconvert_exporter": "python",
   "pygments_lexer": "ipython3",
   "version": "3.12.3"
  },
  "papermill": {
   "default_parameters": {},
   "duration": 11.477586,
   "end_time": "2024-07-14T08:25:24.235876",
   "environment_variables": {},
   "exception": null,
   "input_path": "__notebook__.ipynb",
   "output_path": "__notebook__.ipynb",
   "parameters": {},
   "start_time": "2024-07-14T08:25:12.758290",
   "version": "2.5.0"
  },
  "widgets": {
   "application/vnd.jupyter.widget-state+json": {
    "state": {
     "33adfa8087604183a61e82f66105d0c5": {
      "model_module": "@jupyter-widgets/output",
      "model_module_version": "1.0.0",
      "model_name": "OutputModel",
      "state": {
       "_dom_classes": [],
       "_model_module": "@jupyter-widgets/output",
       "_model_module_version": "1.0.0",
       "_model_name": "OutputModel",
       "_view_count": null,
       "_view_module": "@jupyter-widgets/output",
       "_view_module_version": "1.0.0",
       "_view_name": "OutputView",
       "layout": "IPY_MODEL_e73ac3c52cdb44d482dda2af8bc2cce1",
       "msg_id": "",
       "outputs": [
        {
         "data": {
          "image/png": "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",
          "text/plain": "<Figure size 800x600 with 2 Axes>"
         },
         "metadata": {},
         "output_type": "display_data"
        }
       ]
      }
     },
     "b7ba6941aed74d8486dd4cab9fcc598e": {
      "model_module": "@jupyter-widgets/base",
      "model_module_version": "1.2.0",
      "model_name": "LayoutModel",
      "state": {
       "_model_module": "@jupyter-widgets/base",
       "_model_module_version": "1.2.0",
       "_model_name": "LayoutModel",
       "_view_count": null,
       "_view_module": "@jupyter-widgets/base",
       "_view_module_version": "1.2.0",
       "_view_name": "LayoutView",
       "align_content": null,
       "align_items": null,
       "align_self": null,
       "border": null,
       "bottom": null,
       "display": null,
       "flex": null,
       "flex_flow": null,
       "grid_area": null,
       "grid_auto_columns": null,
       "grid_auto_flow": null,
       "grid_auto_rows": null,
       "grid_column": null,
       "grid_gap": null,
       "grid_row": null,
       "grid_template_areas": null,
       "grid_template_columns": null,
       "grid_template_rows": null,
       "height": null,
       "justify_content": null,
       "justify_items": null,
       "left": null,
       "margin": null,
       "max_height": null,
       "max_width": null,
       "min_height": null,
       "min_width": null,
       "object_fit": null,
       "object_position": null,
       "order": null,
       "overflow": null,
       "overflow_x": null,
       "overflow_y": null,
       "padding": null,
       "right": null,
       "top": null,
       "visibility": null,
       "width": null
      }
     },
     "bc5f8aa6d3f14bb58dc9548b009b9970": {
      "model_module": "@jupyter-widgets/controls",
      "model_module_version": "1.5.0",
      "model_name": "SliderStyleModel",
      "state": {
       "_model_module": "@jupyter-widgets/controls",
       "_model_module_version": "1.5.0",
       "_model_name": "SliderStyleModel",
       "_view_count": null,
       "_view_module": "@jupyter-widgets/base",
       "_view_module_version": "1.2.0",
       "_view_name": "StyleView",
       "description_width": "",
       "handle_color": null
      }
     },
     "d067f7b5382248a3a0a17ff091f93973": {
      "model_module": "@jupyter-widgets/base",
      "model_module_version": "1.2.0",
      "model_name": "LayoutModel",
      "state": {
       "_model_module": "@jupyter-widgets/base",
       "_model_module_version": "1.2.0",
       "_model_name": "LayoutModel",
       "_view_count": null,
       "_view_module": "@jupyter-widgets/base",
       "_view_module_version": "1.2.0",
       "_view_name": "LayoutView",
       "align_content": null,
       "align_items": null,
       "align_self": null,
       "border": null,
       "bottom": null,
       "display": null,
       "flex": null,
       "flex_flow": null,
       "grid_area": null,
       "grid_auto_columns": null,
       "grid_auto_flow": null,
       "grid_auto_rows": null,
       "grid_column": null,
       "grid_gap": null,
       "grid_row": null,
       "grid_template_areas": null,
       "grid_template_columns": null,
       "grid_template_rows": null,
       "height": null,
       "justify_content": null,
       "justify_items": null,
       "left": null,
       "margin": null,
       "max_height": null,
       "max_width": null,
       "min_height": null,
       "min_width": null,
       "object_fit": null,
       "object_position": null,
       "order": null,
       "overflow": null,
       "overflow_x": null,
       "overflow_y": null,
       "padding": null,
       "right": null,
       "top": null,
       "visibility": null,
       "width": null
      }
     },
     "e73ac3c52cdb44d482dda2af8bc2cce1": {
      "model_module": "@jupyter-widgets/base",
      "model_module_version": "1.2.0",
      "model_name": "LayoutModel",
      "state": {
       "_model_module": "@jupyter-widgets/base",
       "_model_module_version": "1.2.0",
       "_model_name": "LayoutModel",
       "_view_count": null,
       "_view_module": "@jupyter-widgets/base",
       "_view_module_version": "1.2.0",
       "_view_name": "LayoutView",
       "align_content": null,
       "align_items": null,
       "align_self": null,
       "border": null,
       "bottom": null,
       "display": null,
       "flex": null,
       "flex_flow": null,
       "grid_area": null,
       "grid_auto_columns": null,
       "grid_auto_flow": null,
       "grid_auto_rows": null,
       "grid_column": null,
       "grid_gap": null,
       "grid_row": null,
       "grid_template_areas": null,
       "grid_template_columns": null,
       "grid_template_rows": null,
       "height": null,
       "justify_content": null,
       "justify_items": null,
       "left": null,
       "margin": null,
       "max_height": null,
       "max_width": null,
       "min_height": null,
       "min_width": null,
       "object_fit": null,
       "object_position": null,
       "order": null,
       "overflow": null,
       "overflow_x": null,
       "overflow_y": null,
       "padding": null,
       "right": null,
       "top": null,
       "visibility": null,
       "width": null
      }
     },
     "facc8d64a7f047f9ad4ce3c58693118e": {
      "model_module": "@jupyter-widgets/controls",
      "model_module_version": "1.5.0",
      "model_name": "FloatSliderModel",
      "state": {
       "_dom_classes": [],
       "_model_module": "@jupyter-widgets/controls",
       "_model_module_version": "1.5.0",
       "_model_name": "FloatSliderModel",
       "_view_count": null,
       "_view_module": "@jupyter-widgets/controls",
       "_view_module_version": "1.5.0",
       "_view_name": "FloatSliderView",
       "continuous_update": true,
       "description": "Threshold:",
       "description_tooltip": null,
       "disabled": false,
       "layout": "IPY_MODEL_b7ba6941aed74d8486dd4cab9fcc598e",
       "max": 1,
       "min": 0,
       "orientation": "horizontal",
       "readout": true,
       "readout_format": ".2f",
       "step": 0.01,
       "style": "IPY_MODEL_bc5f8aa6d3f14bb58dc9548b009b9970",
       "value": 0.5
      }
     },
     "ffd3349c43b649788ad6d42ff6f41993": {
      "model_module": "@jupyter-widgets/controls",
      "model_module_version": "1.5.0",
      "model_name": "VBoxModel",
      "state": {
       "_dom_classes": [
        "widget-interact"
       ],
       "_model_module": "@jupyter-widgets/controls",
       "_model_module_version": "1.5.0",
       "_model_name": "VBoxModel",
       "_view_count": null,
       "_view_module": "@jupyter-widgets/controls",
       "_view_module_version": "1.5.0",
       "_view_name": "VBoxView",
       "box_style": "",
       "children": [
        "IPY_MODEL_facc8d64a7f047f9ad4ce3c58693118e",
        "IPY_MODEL_33adfa8087604183a61e82f66105d0c5"
       ],
       "layout": "IPY_MODEL_d067f7b5382248a3a0a17ff091f93973"
      }
     }
    },
    "version_major": 2,
    "version_minor": 0
   }
  }
 },
 "nbformat": 4,
 "nbformat_minor": 5
}
